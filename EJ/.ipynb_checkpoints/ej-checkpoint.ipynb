{
 "cells": [
  {
   "cell_type": "code",
   "execution_count": 5,
   "metadata": {},
   "outputs": [],
   "source": [
    "import scipy as sc\n",
    "from scipy import stats, optimize, interpolate\n",
    "import numpy\n",
    "import functions"
   ]
  },
  {
   "cell_type": "code",
   "execution_count": 3,
   "metadata": {},
   "outputs": [],
   "source": [
    "def methodsTest(name):\n",
    "    #result = sc.optimize.minimize(functions.F,numpy.array([[0,1,2],([0,1,2],[3,4,5]),[0,1],functions.dataset[0][0]],dtype=object)) #adam\n",
    "    #result = sc.optimize.minimize(functions.F,numpy.array([[0,1,2],([0,1,2],[3,4,5]),[0,1],functions.dataset[0][0]],dtype=object),method = 'CG') #gradiente\n",
    "    result2 = sc.optimize.fmin_cg(functions.F,numpy.array([[0,1,2],([0,1,2],[3,4,5]),[0,1],functions.dataset[0][0]],dtype=object))\n",
    "    print(result2)"
   ]
  },
  {
   "cell_type": "code",
   "execution_count": 4,
   "metadata": {},
   "outputs": [
    {
     "ename": "NameError",
     "evalue": "name 'functions' is not defined",
     "output_type": "error",
     "traceback": [
      "\u001b[0;31m---------------------------------------------------------------------------\u001b[0m",
      "\u001b[0;31mNameError\u001b[0m                                 Traceback (most recent call last)",
      "Input \u001b[0;32mIn [4]\u001b[0m, in \u001b[0;36m<cell line: 1>\u001b[0;34m()\u001b[0m\n\u001b[0;32m----> 1\u001b[0m \u001b[43mmethodsTest\u001b[49m\u001b[43m(\u001b[49m\u001b[38;5;124;43m\"\u001b[39;49m\u001b[38;5;124;43mhika\u001b[39;49m\u001b[38;5;124;43m\"\u001b[39;49m\u001b[43m)\u001b[49m\n",
      "Input \u001b[0;32mIn [3]\u001b[0m, in \u001b[0;36mmethodsTest\u001b[0;34m(name)\u001b[0m\n\u001b[1;32m      1\u001b[0m \u001b[38;5;28;01mdef\u001b[39;00m \u001b[38;5;21mmethodsTest\u001b[39m(name):\n\u001b[1;32m      2\u001b[0m     \u001b[38;5;66;03m#result = sc.optimize.minimize(functions.F,numpy.array([[0,1,2],([0,1,2],[3,4,5]),[0,1],functions.dataset[0][0]],dtype=object)) #adam\u001b[39;00m\n\u001b[1;32m      3\u001b[0m     \u001b[38;5;66;03m#result = sc.optimize.minimize(functions.F,numpy.array([[0,1,2],([0,1,2],[3,4,5]),[0,1],functions.dataset[0][0]],dtype=object),method = 'CG') #gradiente\u001b[39;00m\n\u001b[0;32m----> 4\u001b[0m     result2 \u001b[38;5;241m=\u001b[39m sc\u001b[38;5;241m.\u001b[39moptimize\u001b[38;5;241m.\u001b[39mfmin_cg(\u001b[43mfunctions\u001b[49m\u001b[38;5;241m.\u001b[39mF,numpy\u001b[38;5;241m.\u001b[39marray([[\u001b[38;5;241m0\u001b[39m,\u001b[38;5;241m1\u001b[39m,\u001b[38;5;241m2\u001b[39m],([\u001b[38;5;241m0\u001b[39m,\u001b[38;5;241m1\u001b[39m,\u001b[38;5;241m2\u001b[39m],[\u001b[38;5;241m3\u001b[39m,\u001b[38;5;241m4\u001b[39m,\u001b[38;5;241m5\u001b[39m]),[\u001b[38;5;241m0\u001b[39m,\u001b[38;5;241m1\u001b[39m],functions\u001b[38;5;241m.\u001b[39mdataset[\u001b[38;5;241m0\u001b[39m][\u001b[38;5;241m0\u001b[39m]],dtype\u001b[38;5;241m=\u001b[39m\u001b[38;5;28mobject\u001b[39m))\n\u001b[1;32m      5\u001b[0m     \u001b[38;5;28mprint\u001b[39m(result2)\n",
      "\u001b[0;31mNameError\u001b[0m: name 'functions' is not defined"
     ]
    }
   ],
   "source": [
    "methodsTest(\"hika\")"
   ]
  },
  {
   "cell_type": "code",
   "execution_count": null,
   "metadata": {},
   "outputs": [],
   "source": []
  }
 ],
 "metadata": {
  "kernelspec": {
   "display_name": "Python 3 (ipykernel)",
   "language": "python",
   "name": "python3"
  },
  "language_info": {
   "codemirror_mode": {
    "name": "ipython",
    "version": 3
   },
   "file_extension": ".py",
   "mimetype": "text/x-python",
   "name": "python",
   "nbconvert_exporter": "python",
   "pygments_lexer": "ipython3",
   "version": "3.8.10"
  }
 },
 "nbformat": 4,
 "nbformat_minor": 2
}
