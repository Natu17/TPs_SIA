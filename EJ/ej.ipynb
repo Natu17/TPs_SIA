{
 "cells": [
  {
   "cell_type": "code",
   "execution_count": 8,
   "metadata": {},
   "outputs": [],
   "source": [
    "import scipy as sc\n",
    "from scipy import stats, optimize, interpolate\n",
    "import numpy\n",
    "import functions\n",
    "import autograd as ad\n",
    "from autograd.variable import Variable\n",
    "from autograd.optimize import Adam\n",
    "from autograd.optimize import GD"
   ]
  },
  {
   "cell_type": "code",
   "execution_count": 2,
   "metadata": {},
   "outputs": [],
   "source": [
    "guess = numpy.zeros((1,11))"
   ]
  },
  {
   "cell_type": "code",
   "execution_count": 3,
   "metadata": {},
   "outputs": [
    {
     "name": "stdout",
     "output_type": "stream",
     "text": [
      "Error:  4.693377633449785e-06\n",
      "W:  [-8.60955640e-06 -3.78984851e-07 -3.78984851e-07]\n",
      "w:  (array([ 9.20863386e-12,  1.38129508e-11, -9.15179044e-12]), array([ 9.20863386e-12,  1.38129508e-11, -9.15179044e-12]))\n",
      "wo:  [0. 0.]\n"
     ]
    }
   ],
   "source": [
    "result = sc.optimize.minimize(functions.error,guess, method = 'CG')\n",
    "planar = result.jac\n",
    "W,w,wo =functions.convert(planar)\n",
    "print(\"Error: \",result.fun)\n",
    "print(\"W: \", W)\n",
    "print(\"w: \", w)\n",
    "print(\"wo: \", wo)"
   ]
  },
  {
   "cell_type": "code",
   "execution_count": 4,
   "metadata": {},
   "outputs": [
    {
     "name": "stdout",
     "output_type": "stream",
     "text": [
      "Optimization terminated successfully.\n",
      "         Current function value: 0.000005\n",
      "         Iterations: 12\n",
      "         Function evaluations: 756\n",
      "         Gradient evaluations: 63\n",
      "[ 6.15316712  7.1193765   7.1193765  -2.76147322  0.53919878  2.34582673\n",
      " -2.76147322  0.53919878  2.34582673  0.06293751  0.06293751]\n"
     ]
    }
   ],
   "source": [
    "print(sc.optimize.fmin_cg(functions.error,guess))"
   ]
  },
  {
   "cell_type": "code",
   "execution_count": 10,
   "metadata": {},
   "outputs": [],
   "source": [
    "result = Adam(functions.error,guess)\n",
    "result.solve()"
   ]
  },
  {
   "cell_type": "code",
   "execution_count": 7,
   "metadata": {},
   "outputs": [
    {
     "ename": "IndexError",
     "evalue": "index 1 is out of bounds for axis 0 with size 1",
     "output_type": "error",
     "traceback": [
      "\u001b[0;31m---------------------------------------------------------------------------\u001b[0m",
      "\u001b[0;31mIndexError\u001b[0m                                Traceback (most recent call last)",
      "\u001b[1;32m/home/natu/Itba/sia/TPs_SIA/EJ/ej.ipynb Cell 6'\u001b[0m in \u001b[0;36m<cell line: 1>\u001b[0;34m()\u001b[0m\n\u001b[0;32m----> <a href='vscode-notebook-cell:/home/natu/Itba/sia/TPs_SIA/EJ/ej.ipynb#ch0000011?line=0'>1</a>\u001b[0m result \u001b[39m=\u001b[39m GD(functions\u001b[39m.\u001b[39;49merror,guess)\u001b[39m.\u001b[39;49msolve()\n",
      "File \u001b[0;32m~/.local/lib/python3.8/site-packages/autograd/optimize.py:41\u001b[0m, in \u001b[0;36mOptimizer.solve\u001b[0;34m(self, return_steps)\u001b[0m\n\u001b[1;32m     <a href='file:///home/natu/.local/lib/python3.8/site-packages/autograd/optimize.py?line=37'>38</a>\u001b[0m count \u001b[39m=\u001b[39m \u001b[39m0\u001b[39m\n\u001b[1;32m     <a href='file:///home/natu/.local/lib/python3.8/site-packages/autograd/optimize.py?line=38'>39</a>\u001b[0m \u001b[39mwhile\u001b[39;00m count \u001b[39m<\u001b[39m \u001b[39mself\u001b[39m\u001b[39m.\u001b[39mmax_iter:\n\u001b[0;32m---> <a href='file:///home/natu/.local/lib/python3.8/site-packages/autograd/optimize.py?line=40'>41</a>\u001b[0m     prev_loss, prev_grad \u001b[39m=\u001b[39m \u001b[39mself\u001b[39;49m\u001b[39m.\u001b[39;49mloss_func(\u001b[39mself\u001b[39;49m\u001b[39m.\u001b[39;49mparams)\n\u001b[1;32m     <a href='file:///home/natu/.local/lib/python3.8/site-packages/autograd/optimize.py?line=41'>42</a>\u001b[0m     \u001b[39mself\u001b[39m\u001b[39m.\u001b[39mstep()\n\u001b[1;32m     <a href='file:///home/natu/.local/lib/python3.8/site-packages/autograd/optimize.py?line=42'>43</a>\u001b[0m     new_loss, new_grad \u001b[39m=\u001b[39m \u001b[39mself\u001b[39m\u001b[39m.\u001b[39mloss_func(\u001b[39mself\u001b[39m\u001b[39m.\u001b[39mparams)\n",
      "File \u001b[0;32m~/Itba/sia/TPs_SIA/EJ/functions.py:34\u001b[0m, in \u001b[0;36merror\u001b[0;34m(planar_vec)\u001b[0m\n\u001b[1;32m     <a href='file:///home/natu/Itba/sia/TPs_SIA/EJ/functions.py?line=31'>32</a>\u001b[0m w \u001b[39m=\u001b[39m ((planar_vec[\u001b[39m3\u001b[39m:\u001b[39m6\u001b[39m]), (planar_vec[\u001b[39m6\u001b[39m:\u001b[39m9\u001b[39m]))\n\u001b[1;32m     <a href='file:///home/natu/Itba/sia/TPs_SIA/EJ/functions.py?line=32'>33</a>\u001b[0m w0 \u001b[39m=\u001b[39m (planar_vec[\u001b[39m9\u001b[39m:\u001b[39m11\u001b[39m])\n\u001b[0;32m---> <a href='file:///home/natu/Itba/sia/TPs_SIA/EJ/functions.py?line=33'>34</a>\u001b[0m \u001b[39mreturn\u001b[39;00m E(W, w, w0)\n",
      "File \u001b[0;32m~/Itba/sia/TPs_SIA/EJ/functions.py:28\u001b[0m, in \u001b[0;36mE\u001b[0;34m(W, w, w0)\u001b[0m\n\u001b[1;32m     <a href='file:///home/natu/Itba/sia/TPs_SIA/EJ/functions.py?line=26'>27</a>\u001b[0m \u001b[39mdef\u001b[39;00m \u001b[39mE\u001b[39m(W, w, w0):\n\u001b[0;32m---> <a href='file:///home/natu/Itba/sia/TPs_SIA/EJ/functions.py?line=27'>28</a>\u001b[0m     \u001b[39mreturn\u001b[39;00m \u001b[39msum\u001b[39;49m((OUT \u001b[39m-\u001b[39;49m F(W, w, w0, IN))\u001b[39m*\u001b[39;49m\u001b[39m*\u001b[39;49m\u001b[39m2\u001b[39;49m \u001b[39mfor\u001b[39;49;00m (IN, OUT) \u001b[39min\u001b[39;49;00m dataset)\n",
      "File \u001b[0;32m~/Itba/sia/TPs_SIA/EJ/functions.py:28\u001b[0m, in \u001b[0;36m<genexpr>\u001b[0;34m(.0)\u001b[0m\n\u001b[1;32m     <a href='file:///home/natu/Itba/sia/TPs_SIA/EJ/functions.py?line=26'>27</a>\u001b[0m \u001b[39mdef\u001b[39;00m \u001b[39mE\u001b[39m(W, w, w0):\n\u001b[0;32m---> <a href='file:///home/natu/Itba/sia/TPs_SIA/EJ/functions.py?line=27'>28</a>\u001b[0m     \u001b[39mreturn\u001b[39;00m \u001b[39msum\u001b[39m((OUT \u001b[39m-\u001b[39m F(W, w, w0, IN))\u001b[39m*\u001b[39m\u001b[39m*\u001b[39m\u001b[39m2\u001b[39m \u001b[39mfor\u001b[39;00m (IN, OUT) \u001b[39min\u001b[39;00m dataset)\n",
      "File \u001b[0;32m~/Itba/sia/TPs_SIA/EJ/functions.py:18\u001b[0m, in \u001b[0;36mF\u001b[0;34m(W, w, w0, E)\u001b[0m\n\u001b[1;32m     <a href='file:///home/natu/Itba/sia/TPs_SIA/EJ/functions.py?line=16'>17</a>\u001b[0m \u001b[39mdef\u001b[39;00m \u001b[39mF\u001b[39m(W, w, w0, E):\n\u001b[0;32m---> <a href='file:///home/natu/Itba/sia/TPs_SIA/EJ/functions.py?line=17'>18</a>\u001b[0m     \u001b[39mreturn\u001b[39;00m g(\u001b[39msum\u001b[39;49m(\n\u001b[1;32m     <a href='file:///home/natu/Itba/sia/TPs_SIA/EJ/functions.py?line=18'>19</a>\u001b[0m         W[j\u001b[39m+\u001b[39;49m\u001b[39m1\u001b[39;49m]\u001b[39m*\u001b[39;49mg(\u001b[39msum\u001b[39;49m(\n\u001b[1;32m     <a href='file:///home/natu/Itba/sia/TPs_SIA/EJ/functions.py?line=19'>20</a>\u001b[0m             w[j][k]\u001b[39m*\u001b[39;49mE[k]\n\u001b[1;32m     <a href='file:///home/natu/Itba/sia/TPs_SIA/EJ/functions.py?line=20'>21</a>\u001b[0m             \u001b[39mfor\u001b[39;49;00m k \u001b[39min\u001b[39;49;00m \u001b[39mrange\u001b[39;49m(\u001b[39m0\u001b[39;49m, \u001b[39m3\u001b[39;49m)\n\u001b[1;32m     <a href='file:///home/natu/Itba/sia/TPs_SIA/EJ/functions.py?line=21'>22</a>\u001b[0m         ) \u001b[39m-\u001b[39;49m w0[j])\n\u001b[1;32m     <a href='file:///home/natu/Itba/sia/TPs_SIA/EJ/functions.py?line=22'>23</a>\u001b[0m         \u001b[39mfor\u001b[39;49;00m j \u001b[39min\u001b[39;49;00m \u001b[39mrange\u001b[39;49m(\u001b[39m0\u001b[39;49m, \u001b[39m2\u001b[39;49m)\n\u001b[1;32m     <a href='file:///home/natu/Itba/sia/TPs_SIA/EJ/functions.py?line=23'>24</a>\u001b[0m     ) \u001b[39m-\u001b[39m W[\u001b[39m0\u001b[39m])\n",
      "File \u001b[0;32m~/Itba/sia/TPs_SIA/EJ/functions.py:19\u001b[0m, in \u001b[0;36m<genexpr>\u001b[0;34m(.0)\u001b[0m\n\u001b[1;32m     <a href='file:///home/natu/Itba/sia/TPs_SIA/EJ/functions.py?line=16'>17</a>\u001b[0m \u001b[39mdef\u001b[39;00m \u001b[39mF\u001b[39m(W, w, w0, E):\n\u001b[1;32m     <a href='file:///home/natu/Itba/sia/TPs_SIA/EJ/functions.py?line=17'>18</a>\u001b[0m     \u001b[39mreturn\u001b[39;00m g(\u001b[39msum\u001b[39m(\n\u001b[0;32m---> <a href='file:///home/natu/Itba/sia/TPs_SIA/EJ/functions.py?line=18'>19</a>\u001b[0m         W[j\u001b[39m+\u001b[39;49m\u001b[39m1\u001b[39;49m]\u001b[39m*\u001b[39mg(\u001b[39msum\u001b[39m(\n\u001b[1;32m     <a href='file:///home/natu/Itba/sia/TPs_SIA/EJ/functions.py?line=19'>20</a>\u001b[0m             w[j][k]\u001b[39m*\u001b[39mE[k]\n\u001b[1;32m     <a href='file:///home/natu/Itba/sia/TPs_SIA/EJ/functions.py?line=20'>21</a>\u001b[0m             \u001b[39mfor\u001b[39;00m k \u001b[39min\u001b[39;00m \u001b[39mrange\u001b[39m(\u001b[39m0\u001b[39m, \u001b[39m3\u001b[39m)\n\u001b[1;32m     <a href='file:///home/natu/Itba/sia/TPs_SIA/EJ/functions.py?line=21'>22</a>\u001b[0m         ) \u001b[39m-\u001b[39m w0[j])\n\u001b[1;32m     <a href='file:///home/natu/Itba/sia/TPs_SIA/EJ/functions.py?line=22'>23</a>\u001b[0m         \u001b[39mfor\u001b[39;00m j \u001b[39min\u001b[39;00m \u001b[39mrange\u001b[39m(\u001b[39m0\u001b[39m, \u001b[39m2\u001b[39m)\n\u001b[1;32m     <a href='file:///home/natu/Itba/sia/TPs_SIA/EJ/functions.py?line=23'>24</a>\u001b[0m     ) \u001b[39m-\u001b[39m W[\u001b[39m0\u001b[39m])\n",
      "\u001b[0;31mIndexError\u001b[0m: index 1 is out of bounds for axis 0 with size 1"
     ]
    }
   ],
   "source": [
    "result = GD(functions.error,guess).solve()"
   ]
  }
 ],
 "metadata": {
  "kernelspec": {
   "display_name": "Python 3 (ipykernel)",
   "language": "python",
   "name": "python3"
  },
  "language_info": {
   "codemirror_mode": {
    "name": "ipython",
    "version": 3
   },
   "file_extension": ".py",
   "mimetype": "text/x-python",
   "name": "python",
   "nbconvert_exporter": "python",
   "pygments_lexer": "ipython3",
   "version": "3.8.10"
  }
 },
 "nbformat": 4,
 "nbformat_minor": 2
}
