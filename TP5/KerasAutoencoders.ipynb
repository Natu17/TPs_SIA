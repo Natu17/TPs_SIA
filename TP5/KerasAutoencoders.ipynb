{
  "cells": [
    {
      "cell_type": "markdown",
      "metadata": {
        "id": "HDMaoeL5lfsq"
      },
      "source": [
        "# Generación por Autoencoders\n",
        "\n",
        "Este ejemplo buenísimo muestra como se puede usar la información del espacio latente de los autoencoders para interpolar nuevos ejemplos de los dígitos de códigos postales de MNIST.\n",
        "\n",
        "Está sacado del libro de Langr, \"GANs in action\""
      ]
    },
    {
      "cell_type": "code",
      "execution_count": 34,
      "metadata": {
        "colab": {
          "base_uri": "https://localhost:8080/"
        },
        "id": "grno4di7hFBf",
        "outputId": "7dd4517a-0470-4de9-cecd-11e1d2217263"
      },
      "outputs": [
        {
          "name": "stdout",
          "output_type": "stream",
          "text": [
            "1.22.3\n"
          ]
        }
      ],
      "source": [
        "\n",
        "from __future__ import print_function\n",
        "\n",
        "#!pip install numpy==1.19.5\n",
        "#!pip install tensorflow==2.2.0\n",
        "import numpy as np\n",
        "import matplotlib.pyplot as plt\n",
        "from scipy.stats import norm\n",
        "\n",
        "#from tensorflow import keras\n",
        "### hack tf-keras to appear as top level keras\n",
        "#import sys\n",
        "#sys.modules['keras'] = keras\n",
        "### end of hack\n",
        "\n",
        "from keras.layers import Input, Dense, Lambda, Reshape\n",
        "from keras.models import Model\n",
        "from keras import backend as K\n",
        "from keras import metrics\n",
        "from keras.datasets import mnist\n",
        "\n",
        "from tensorflow.python.framework.ops import disable_eager_execution\n",
        "disable_eager_execution()\n",
        "\n",
        "\n",
        "\n",
        "print(np.__version__)\n",
        "\n"
      ]
    },
    {
      "cell_type": "code",
      "execution_count": 35,
      "metadata": {
        "id": "6gylL5N2hPmv"
      },
      "outputs": [],
      "source": [
        "\n",
        "# defining the key parameters\n",
        "batch_size = 1\n",
        "\n",
        "# Parameters of the input images (handwritten digits)\n",
        "original_dim = 7*5\n",
        "\n",
        "# Latent space is of dimension 2.  This means that we are reducing the dimension from 784 to 2\n",
        "latent_dim = 2\n",
        "intermediate_dim = 20\n",
        "epochs = 100\n",
        "epsilon_std = 1.0"
      ]
    },
    {
      "cell_type": "markdown",
      "metadata": {
        "id": "Rp_GBGkMuWWo"
      },
      "source": [
        "La función de Sampling es la que toma la salida de la media y la varianza que estima el Encoder y la usa para generar una muestra que va a servir a estimar la pdf de los datos."
      ]
    },
    {
      "cell_type": "code",
      "execution_count": 36,
      "metadata": {
        "id": "EaAVBVXmhTVI"
      },
      "outputs": [],
      "source": [
        "def sampling(args: tuple):\n",
        "    # we grab the variables from the tuple\n",
        "    z_mean, z_log_var = args\n",
        "    print(z_mean)\n",
        "    print(z_log_var)\n",
        "    epsilon = K.random_normal(shape=(K.shape(z_mean)[0], latent_dim), mean=0.,\n",
        "                              stddev=epsilon_std)\n",
        "    return z_mean + K.exp(z_log_var / 2) * epsilon  # h(z)"
      ]
    },
    {
      "cell_type": "markdown",
      "metadata": {
        "id": "8cGTlodOriZ-"
      },
      "source": [
        "# Codificador\n",
        "\n",
        "Esta primera parte define el codificador, es decir la primera red que baja la dimensionalidad de los datos."
      ]
    },
    {
      "cell_type": "code",
      "execution_count": 37,
      "metadata": {
        "colab": {
          "base_uri": "https://localhost:8080/"
        },
        "id": "8J2tfwH7hben",
        "outputId": "7a39bb4c-b4ef-41d6-a2c6-8eb4c74834a6"
      },
      "outputs": [
        {
          "name": "stdout",
          "output_type": "stream",
          "text": [
            "Tensor(\"mean_2/BiasAdd:0\", shape=(None, 2), dtype=float32)\n",
            "Tensor(\"log-variance_2/BiasAdd:0\", shape=(None, 2), dtype=float32)\n",
            "Model: \"encoder\"\n",
            "__________________________________________________________________________________________________\n",
            " Layer (type)                   Output Shape         Param #     Connected to                     \n",
            "==================================================================================================\n",
            " input (InputLayer)             [(None, 35)]         0           []                               \n",
            "                                                                                                  \n",
            " encoding (Dense)               (None, 20)           720         ['input[0][0]']                  \n",
            "                                                                                                  \n",
            " mean (Dense)                   (None, 2)            42          ['encoding[0][0]']               \n",
            "                                                                                                  \n",
            " log-variance (Dense)           (None, 2)            42          ['encoding[0][0]']               \n",
            "                                                                                                  \n",
            " lambda_2 (Lambda)              (None, 2)            0           ['mean[0][0]',                   \n",
            "                                                                  'log-variance[0][0]']           \n",
            "                                                                                                  \n",
            "==================================================================================================\n",
            "Total params: 804\n",
            "Trainable params: 804\n",
            "Non-trainable params: 0\n",
            "__________________________________________________________________________________________________\n"
          ]
        }
      ],
      "source": [
        "# input to our encoder\n",
        "x = Input(shape=(original_dim,), name=\"input\")\n",
        "# intermediate layer\n",
        "h = Dense(intermediate_dim, activation='relu', name=\"encoding\")(x)\n",
        "# defining the mean of the latent space\n",
        "z_mean = Dense(latent_dim, name=\"mean\")(h)\n",
        "# defining the log variance of the latent space\n",
        "z_log_var = Dense(latent_dim, name=\"log-variance\")(h)\n",
        "# note that \"output_shape\" isn't necessary with the TensorFlow backend\n",
        "z = Lambda(sampling, output_shape=(latent_dim,))([z_mean, z_log_var])\n",
        "# defining the encoder as a keras model\n",
        "encoder = Model(x, [z_mean, z_log_var, z], name=\"encoder\")\n",
        "# print out summary of what we just did\n",
        "encoder.summary()"
      ]
    },
    {
      "cell_type": "markdown",
      "metadata": {
        "id": "OW2bBFULsBSs"
      },
      "source": [
        "# Decodificador\n",
        "\n",
        "Esta segunda parte es la definición del decodificador, que es la segunda parte que decodifica la información del espacio latente hacia la salida final de las dos redes en serie."
      ]
    },
    {
      "cell_type": "code",
      "execution_count": 38,
      "metadata": {
        "colab": {
          "base_uri": "https://localhost:8080/"
        },
        "id": "Ev9fCeGRhqHp",
        "outputId": "176c6046-2c6d-4188-ba79-3f017ae29f35"
      },
      "outputs": [
        {
          "name": "stdout",
          "output_type": "stream",
          "text": [
            "Model: \"decoder\"\n",
            "_________________________________________________________________\n",
            " Layer (type)                Output Shape              Param #   \n",
            "=================================================================\n",
            " decoder_input (InputLayer)  [(None, 2)]               0         \n",
            "                                                                 \n",
            " decoder_h (Dense)           (None, 20)                60        \n",
            "                                                                 \n",
            " flat_decoded (Dense)        (None, 35)                735       \n",
            "                                                                 \n",
            "=================================================================\n",
            "Total params: 795\n",
            "Trainable params: 795\n",
            "Non-trainable params: 0\n",
            "_________________________________________________________________\n"
          ]
        }
      ],
      "source": [
        "# Input to the decoder\n",
        "input_decoder = Input(shape=(latent_dim,), name=\"decoder_input\")\n",
        "# taking the latent space to intermediate dimension\n",
        "decoder_h = Dense(intermediate_dim, activation='relu', name=\"decoder_h\")(input_decoder)\n",
        "# getting the mean from the original dimension\n",
        "x_decoded = Dense(original_dim, activation='sigmoid', name=\"flat_decoded\")(decoder_h)\n",
        "# defining the decoder as a keras model\n",
        "decoder = Model(input_decoder, x_decoded, name=\"decoder\")\n",
        "decoder.summary()"
      ]
    },
    {
      "cell_type": "markdown",
      "metadata": {
        "id": "TuwZuVAbsLlr"
      },
      "source": [
        "# Autoencoder completo\n",
        "\n",
        "Se combinan las dos partes.  Primero el Codificador y luego del decodifcador.  Acá se muestra la información de cómo queda el modelo."
      ]
    },
    {
      "cell_type": "code",
      "execution_count": 39,
      "metadata": {
        "colab": {
          "base_uri": "https://localhost:8080/"
        },
        "id": "iBUymccKhxdf",
        "outputId": "bb35b189-c486-43a3-8245-5c838c6f22f7"
      },
      "outputs": [
        {
          "name": "stdout",
          "output_type": "stream",
          "text": [
            "Tensor(\"encoder_2/mean/BiasAdd:0\", shape=(None, 2), dtype=float32)\n",
            "Tensor(\"encoder_2/log-variance/BiasAdd:0\", shape=(None, 2), dtype=float32)\n",
            "Model: \"model_2\"\n",
            "_________________________________________________________________\n",
            " Layer (type)                Output Shape              Param #   \n",
            "=================================================================\n",
            " input (InputLayer)          [(None, 35)]              0         \n",
            "                                                                 \n",
            " encoder (Functional)        [(None, 2),               804       \n",
            "                              (None, 2),                         \n",
            "                              (None, 2)]                         \n",
            "                                                                 \n",
            " decoder (Functional)        (None, 35)                795       \n",
            "                                                                 \n",
            "=================================================================\n",
            "Total params: 1,599\n",
            "Trainable params: 1,599\n",
            "Non-trainable params: 0\n",
            "_________________________________________________________________\n"
          ]
        }
      ],
      "source": [
        "# grab the output. Recall, that we need to grab the 3rd element our sampling z\n",
        "output_combined = decoder(encoder(x)[2])\n",
        "# link the input and the overall output\n",
        "vae = Model(x, output_combined)\n",
        "# print out what the overall model looks like\n",
        "vae.summary()"
      ]
    },
    {
      "cell_type": "markdown",
      "metadata": {
        "id": "tRcz7RhEsbx9"
      },
      "source": [
        "# Función de perdida\n",
        "\n",
        "Se define la función de perdida, y se establece cuál va a ser la función de optimización."
      ]
    },
    {
      "cell_type": "code",
      "execution_count": 40,
      "metadata": {
        "id": "CAm6NZ6Tf-LZ"
      },
      "outputs": [],
      "source": [
        "import tensorflow as tf\n",
        "from keras.datasets import mnist\n",
        "from keras import metrics"
      ]
    },
    {
      "cell_type": "code",
      "execution_count": 41,
      "metadata": {
        "colab": {
          "base_uri": "https://localhost:8080/"
        },
        "id": "Aqpd08w-h6c_",
        "outputId": "1f63c3c7-0d56-45e4-dac0-8b3331377ccc"
      },
      "outputs": [
        {
          "name": "stdout",
          "output_type": "stream",
          "text": [
            "Model: \"model_2\"\n",
            "_________________________________________________________________\n",
            " Layer (type)                Output Shape              Param #   \n",
            "=================================================================\n",
            " input (InputLayer)          [(None, 35)]              0         \n",
            "                                                                 \n",
            " encoder (Functional)        [(None, 2),               804       \n",
            "                              (None, 2),                         \n",
            "                              (None, 2)]                         \n",
            "                                                                 \n",
            " decoder (Functional)        (None, 35)                795       \n",
            "                                                                 \n",
            "=================================================================\n",
            "Total params: 1,599\n",
            "Trainable params: 1,599\n",
            "Non-trainable params: 0\n",
            "_________________________________________________________________\n"
          ]
        }
      ],
      "source": [
        "def vae_loss(x: tf.Tensor, x_decoded_mean: tf.Tensor):\n",
        "  # Aca se computa la cross entropy entre los \"labels\" x que son los valores 0/1 de los pixeles, y lo que salió al final del Decoder.\n",
        "  xent_loss = original_dim * metrics.binary_crossentropy(x, x_decoded_mean) # x-^X\n",
        "  kl_loss = - 0.5 * K.sum(1 + z_log_var - K.square(z_mean) - K.exp(z_log_var), axis=-1)\n",
        "  vae_loss = K.mean(xent_loss + kl_loss)\n",
        "  return vae_loss\n",
        "\n",
        "vae.compile( loss=vae_loss)\n",
        "vae.summary()"
      ]
    },
    {
      "cell_type": "markdown",
      "metadata": {
        "id": "QHowf3udskDP"
      },
      "source": [
        "Se cargan los datos"
      ]
    },
    {
      "cell_type": "code",
      "execution_count": 42,
      "metadata": {
        "colab": {
          "base_uri": "https://localhost:8080/"
        },
        "id": "FvdIgDhjh_UO",
        "outputId": "e58b4881-fbf6-4919-8816-d83f27827e1d"
      },
      "outputs": [],
      "source": [
        "import fonts\n",
        "rng = np.random.RandomState(17)\n",
        "dataset = np.array([[x.flatten(), x.flatten()] for x in fonts.f1])\n",
        "dataset = dataset[0:20]\n",
        "iters = 100\n",
        "y_test = []\n",
        "y_train = []\n",
        "x_train = []\n",
        "x_test = []\n",
        "prob = 0.1\n",
        "for i in range(10):\n",
        "    for j, (IN, OUT) in enumerate(dataset):\n",
        "        rand = rng.uniform(0, 1, IN.shape)\n",
        "        rand = np.where(rand < prob, 1, 0)\n",
        "        x_train.append(np.abs(IN-rand))\n",
        "        y_train.append(OUT)\n",
        "\n",
        "for i in range(iters):\n",
        "    for j, (IN,OUT) in enumerate(dataset):\n",
        "        rand = rng.uniform(0, 1, IN.shape)\n",
        "        rand = np.where(rand < prob, 1, 0)\n",
        "        x_test.append(np.abs(IN-rand))\n",
        "        y_test.append(j)\n",
        "\n",
        "\n",
        "\n",
        "y_train = np.array([x.flatten() for x in y_train])\n",
        "x_train = np.array([x.flatten() for x in x_train])\n",
        "x_test = np.array([x.flatten() for x in x_test])"
      ]
    },
    {
      "cell_type": "markdown",
      "metadata": {
        "id": "duTtPSmvsn3z"
      },
      "source": [
        "Se entrena finalmente la red de forma completa."
      ]
    },
    {
      "cell_type": "code",
      "execution_count": 43,
      "metadata": {
        "colab": {
          "base_uri": "https://localhost:8080/"
        },
        "id": "2Qm1emzwiCu0",
        "outputId": "4731e628-8264-43d2-f71b-880163402610"
      },
      "outputs": [
        {
          "name": "stdout",
          "output_type": "stream",
          "text": [
            "Train on 200 samples\n",
            "Epoch 1/100\n",
            "200/200 [==============================] - 1s 2ms/sample - loss: 23.9706\n",
            "Epoch 2/100\n",
            "200/200 [==============================] - 0s 2ms/sample - loss: 21.9495\n",
            "Epoch 3/100\n",
            "200/200 [==============================] - 0s 2ms/sample - loss: 20.5484\n",
            "Epoch 4/100\n",
            "200/200 [==============================] - 0s 2ms/sample - loss: 20.0998\n",
            "Epoch 5/100\n",
            "200/200 [==============================] - 0s 2ms/sample - loss: 19.7054\n",
            "Epoch 6/100\n",
            "200/200 [==============================] - 0s 2ms/sample - loss: 19.4069\n",
            "Epoch 7/100\n",
            "200/200 [==============================] - 0s 2ms/sample - loss: 19.0583\n",
            "Epoch 8/100\n",
            "200/200 [==============================] - 0s 2ms/sample - loss: 18.9183\n",
            "Epoch 9/100\n",
            "200/200 [==============================] - 0s 2ms/sample - loss: 18.5186\n",
            "Epoch 10/100\n",
            "200/200 [==============================] - 0s 2ms/sample - loss: 18.5291\n",
            "Epoch 11/100\n",
            "200/200 [==============================] - 0s 2ms/sample - loss: 18.2848\n",
            "Epoch 12/100\n",
            "200/200 [==============================] - 0s 2ms/sample - loss: 18.1812\n",
            "Epoch 13/100\n",
            "200/200 [==============================] - 0s 2ms/sample - loss: 18.1030\n",
            "Epoch 14/100\n",
            "200/200 [==============================] - 0s 2ms/sample - loss: 17.9530\n",
            "Epoch 15/100\n",
            "200/200 [==============================] - 0s 2ms/sample - loss: 17.6911\n",
            "Epoch 16/100\n",
            "200/200 [==============================] - 0s 2ms/sample - loss: 17.5325\n",
            "Epoch 17/100\n",
            "200/200 [==============================] - 0s 2ms/sample - loss: 17.6636\n",
            "Epoch 18/100\n",
            "200/200 [==============================] - 0s 2ms/sample - loss: 17.6079\n",
            "Epoch 19/100\n",
            "200/200 [==============================] - 0s 2ms/sample - loss: 17.6708\n",
            "Epoch 20/100\n",
            "200/200 [==============================] - 0s 2ms/sample - loss: 17.3356\n",
            "Epoch 21/100\n",
            "200/200 [==============================] - 0s 2ms/sample - loss: 17.3886\n",
            "Epoch 22/100\n",
            "200/200 [==============================] - 0s 2ms/sample - loss: 17.4814\n",
            "Epoch 23/100\n",
            "200/200 [==============================] - 0s 2ms/sample - loss: 17.2786\n",
            "Epoch 24/100\n",
            "200/200 [==============================] - 0s 2ms/sample - loss: 17.5422\n",
            "Epoch 25/100\n",
            "200/200 [==============================] - 0s 2ms/sample - loss: 17.1362\n",
            "Epoch 26/100\n",
            "200/200 [==============================] - 0s 2ms/sample - loss: 17.3493\n",
            "Epoch 27/100\n",
            "200/200 [==============================] - 0s 2ms/sample - loss: 17.3250\n",
            "Epoch 28/100\n",
            "200/200 [==============================] - 0s 2ms/sample - loss: 17.0309\n",
            "Epoch 29/100\n",
            "200/200 [==============================] - 0s 2ms/sample - loss: 16.8612\n",
            "Epoch 30/100\n",
            "200/200 [==============================] - 0s 2ms/sample - loss: 17.0609\n",
            "Epoch 31/100\n",
            "200/200 [==============================] - 0s 2ms/sample - loss: 17.0777\n",
            "Epoch 32/100\n",
            "200/200 [==============================] - 0s 2ms/sample - loss: 16.9171\n",
            "Epoch 33/100\n",
            "200/200 [==============================] - 0s 2ms/sample - loss: 16.8047\n",
            "Epoch 34/100\n",
            "200/200 [==============================] - 0s 2ms/sample - loss: 16.5434\n",
            "Epoch 35/100\n",
            "200/200 [==============================] - 0s 2ms/sample - loss: 16.3402\n",
            "Epoch 36/100\n",
            "200/200 [==============================] - 0s 2ms/sample - loss: 16.7650\n",
            "Epoch 37/100\n",
            "200/200 [==============================] - 0s 2ms/sample - loss: 16.6371\n",
            "Epoch 38/100\n",
            "200/200 [==============================] - 0s 2ms/sample - loss: 16.5431\n",
            "Epoch 39/100\n",
            "200/200 [==============================] - 0s 2ms/sample - loss: 16.4099\n",
            "Epoch 40/100\n",
            "200/200 [==============================] - 0s 2ms/sample - loss: 16.0932\n",
            "Epoch 41/100\n",
            "200/200 [==============================] - 0s 2ms/sample - loss: 16.2111\n",
            "Epoch 42/100\n",
            "200/200 [==============================] - 0s 2ms/sample - loss: 16.2221\n",
            "Epoch 43/100\n",
            "200/200 [==============================] - 0s 2ms/sample - loss: 15.7454\n",
            "Epoch 44/100\n",
            "200/200 [==============================] - 0s 2ms/sample - loss: 15.5771\n",
            "Epoch 45/100\n",
            "200/200 [==============================] - 0s 2ms/sample - loss: 15.6664\n",
            "Epoch 46/100\n",
            "200/200 [==============================] - 0s 2ms/sample - loss: 15.6039\n",
            "Epoch 47/100\n",
            "200/200 [==============================] - 0s 2ms/sample - loss: 15.3578\n",
            "Epoch 48/100\n",
            "200/200 [==============================] - 0s 2ms/sample - loss: 15.5093\n",
            "Epoch 49/100\n",
            "200/200 [==============================] - 0s 2ms/sample - loss: 15.2074\n",
            "Epoch 50/100\n",
            "200/200 [==============================] - 0s 2ms/sample - loss: 15.1679\n",
            "Epoch 51/100\n",
            "200/200 [==============================] - 0s 2ms/sample - loss: 15.3254\n",
            "Epoch 52/100\n",
            "200/200 [==============================] - 0s 2ms/sample - loss: 15.2329\n",
            "Epoch 53/100\n",
            "200/200 [==============================] - 0s 2ms/sample - loss: 15.0851\n",
            "Epoch 54/100\n",
            "200/200 [==============================] - 0s 2ms/sample - loss: 14.8857\n",
            "Epoch 55/100\n",
            "200/200 [==============================] - 0s 2ms/sample - loss: 14.8493\n",
            "Epoch 56/100\n",
            "200/200 [==============================] - 0s 2ms/sample - loss: 14.7872\n",
            "Epoch 57/100\n",
            "200/200 [==============================] - 0s 2ms/sample - loss: 14.6927\n",
            "Epoch 58/100\n",
            "200/200 [==============================] - 0s 2ms/sample - loss: 14.8406\n",
            "Epoch 59/100\n",
            "200/200 [==============================] - 0s 2ms/sample - loss: 14.5927\n",
            "Epoch 60/100\n",
            "200/200 [==============================] - 0s 2ms/sample - loss: 14.5138\n",
            "Epoch 61/100\n",
            "200/200 [==============================] - 0s 2ms/sample - loss: 14.8428\n",
            "Epoch 62/100\n",
            "200/200 [==============================] - 0s 2ms/sample - loss: 14.4080\n",
            "Epoch 63/100\n",
            "200/200 [==============================] - 0s 2ms/sample - loss: 14.2472\n",
            "Epoch 64/100\n",
            "200/200 [==============================] - 0s 2ms/sample - loss: 14.3656\n",
            "Epoch 65/100\n",
            "200/200 [==============================] - 0s 2ms/sample - loss: 14.2706\n",
            "Epoch 66/100\n",
            "200/200 [==============================] - 0s 2ms/sample - loss: 14.5228\n",
            "Epoch 67/100\n",
            "200/200 [==============================] - 0s 2ms/sample - loss: 14.2629\n",
            "Epoch 68/100\n",
            "200/200 [==============================] - 0s 2ms/sample - loss: 14.1723\n",
            "Epoch 69/100\n",
            "200/200 [==============================] - 0s 2ms/sample - loss: 13.9688\n",
            "Epoch 70/100\n",
            "200/200 [==============================] - 0s 2ms/sample - loss: 14.0865\n",
            "Epoch 71/100\n",
            "200/200 [==============================] - 0s 2ms/sample - loss: 13.9136\n",
            "Epoch 72/100\n",
            "200/200 [==============================] - 0s 2ms/sample - loss: 14.1642\n",
            "Epoch 73/100\n",
            "200/200 [==============================] - 0s 2ms/sample - loss: 14.2142\n",
            "Epoch 74/100\n",
            "200/200 [==============================] - 0s 2ms/sample - loss: 14.0270\n",
            "Epoch 75/100\n",
            "200/200 [==============================] - 0s 2ms/sample - loss: 13.9274\n",
            "Epoch 76/100\n",
            "200/200 [==============================] - 0s 2ms/sample - loss: 13.8065\n",
            "Epoch 77/100\n",
            "200/200 [==============================] - 0s 2ms/sample - loss: 13.5910\n",
            "Epoch 78/100\n",
            "200/200 [==============================] - 0s 2ms/sample - loss: 14.0176\n",
            "Epoch 79/100\n",
            "200/200 [==============================] - 0s 2ms/sample - loss: 13.8713\n",
            "Epoch 80/100\n",
            "200/200 [==============================] - 0s 2ms/sample - loss: 13.6947\n",
            "Epoch 81/100\n",
            "200/200 [==============================] - 0s 2ms/sample - loss: 13.7618\n",
            "Epoch 82/100\n",
            "200/200 [==============================] - 0s 2ms/sample - loss: 13.7752\n",
            "Epoch 83/100\n",
            "200/200 [==============================] - 0s 2ms/sample - loss: 13.3818\n",
            "Epoch 84/100\n",
            "200/200 [==============================] - 0s 2ms/sample - loss: 13.8266\n",
            "Epoch 85/100\n",
            "200/200 [==============================] - 0s 2ms/sample - loss: 13.3835\n",
            "Epoch 86/100\n",
            "200/200 [==============================] - 0s 2ms/sample - loss: 13.7524\n",
            "Epoch 87/100\n",
            "200/200 [==============================] - 0s 2ms/sample - loss: 13.4876\n",
            "Epoch 88/100\n",
            "200/200 [==============================] - 0s 2ms/sample - loss: 13.6700\n",
            "Epoch 89/100\n",
            "200/200 [==============================] - 0s 2ms/sample - loss: 13.4794\n",
            "Epoch 90/100\n",
            "200/200 [==============================] - 0s 2ms/sample - loss: 13.3784\n",
            "Epoch 91/100\n",
            "200/200 [==============================] - 0s 2ms/sample - loss: 13.3693\n",
            "Epoch 92/100\n",
            "200/200 [==============================] - 0s 2ms/sample - loss: 13.3168\n",
            "Epoch 93/100\n",
            "200/200 [==============================] - 0s 2ms/sample - loss: 13.3143\n",
            "Epoch 94/100\n",
            "200/200 [==============================] - 0s 2ms/sample - loss: 13.5255\n",
            "Epoch 95/100\n",
            "200/200 [==============================] - 0s 2ms/sample - loss: 13.4584\n",
            "Epoch 96/100\n",
            "200/200 [==============================] - 0s 2ms/sample - loss: 13.1981\n",
            "Epoch 97/100\n",
            "200/200 [==============================] - 0s 2ms/sample - loss: 13.3883\n",
            "Epoch 98/100\n",
            "200/200 [==============================] - 0s 2ms/sample - loss: 13.0814\n",
            "Epoch 99/100\n",
            "200/200 [==============================] - 0s 2ms/sample - loss: 13.3465\n",
            "Epoch 100/100\n",
            "200/200 [==============================] - 0s 2ms/sample - loss: 13.2128\n"
          ]
        },
        {
          "data": {
            "text/plain": [
              "<keras.callbacks.History at 0x7f2bce460bb0>"
            ]
          },
          "execution_count": 43,
          "metadata": {},
          "output_type": "execute_result"
        }
      ],
      "source": [
        "vae.fit(x_train, y_train,\n",
        "        shuffle=True,\n",
        "        epochs=epochs,\n",
        "        batch_size=batch_size)\n"
      ]
    },
    {
      "cell_type": "code",
      "execution_count": 44,
      "metadata": {
        "colab": {
          "base_uri": "https://localhost:8080/",
          "height": 432
        },
        "id": "M7KBqKG0lHpv",
        "outputId": "d9382af7-f5ad-4e65-8e45-1c6d25c901ec"
      },
      "outputs": [
        {
          "name": "stderr",
          "output_type": "stream",
          "text": [
            "/home/agus/.local/lib/python3.8/site-packages/keras/engine/training_v1.py:2079: UserWarning: `Model.state_updates` will be removed in a future version. This property should not be used in TensorFlow 2.0, as `updates` are applied automatically.\n",
            "  updates=self.state_updates,\n"
          ]
        },
        {
          "data": {
            "image/png": "[encoded data removed]",
            "text/plain": [
              "<Figure size 432x432 with 2 Axes>"
            ]
          },
          "metadata": {
            "needs_background": "light"
          },
          "output_type": "display_data"
        }
      ],
      "source": [
        "x_test_encoded = encoder.predict(x_test, batch_size=1)[0]\n",
        "plt.figure(figsize=(6, 6))\n",
        "plt.scatter(x_test_encoded[:,0], x_test_encoded[:,1], c=y_test, cmap='tab20')\n",
        "plt.colorbar()\n",
        "plt.show()"
      ]
    },
    {
      "cell_type": "code",
      "execution_count": 50,
      "metadata": {
        "colab": {
          "base_uri": "https://localhost:8080/",
          "height": 649
        },
        "id": "vOOvIVeAlR1-",
        "outputId": "0b5436a8-f876-47b4-a8ad-248e0a28aaa8"
      },
      "outputs": [
        {
          "data": {
            "image/png": "[encoded data removed]",
            "text/plain": [
              "<Figure size 720x720 with 1 Axes>"
            ]
          },
          "metadata": {
            "needs_background": "light"
          },
          "output_type": "display_data"
        }
      ],
      "source": [
        "n = 5  # figure with 15x15 digits\n",
        "digit_size = (7,5)\n",
        "figure = np.zeros((digit_size[0] * n, digit_size[1] * n))\n",
        "# linearly spaced coordinates on the unit square were transformed through the inverse CDF (ppf) of the Gaussian\n",
        "# to produce values of the latent variables z, since the prior of the latent space is Gaussian\n",
        "grid_x = norm.ppf(np.linspace(0.05, 0.95, n))\n",
        "grid_y = norm.ppf(np.linspace(0.05, 0.95, n))\n",
        "\n",
        "for i, yi in enumerate(grid_x):\n",
        "    for j, xi in enumerate(grid_y):\n",
        "        z_sample = np.array([[xi, yi]])\n",
        "        x_decoded = decoder.predict(z_sample)\n",
        "        digit = x_decoded[0].reshape(digit_size[0], digit_size[1])\n",
        "        figure[i * digit_size[0]: (i + 1) * digit_size[0],\n",
        "               j * digit_size[1]: (j + 1) * digit_size[1]] = digit\n",
        "\n",
        "plt.figure(figsize=(10, 10))\n",
        "plt.imshow(figure, cmap='Greys_r')\n",
        "plt.show()"
      ]
    },
    {
      "cell_type": "code",
      "execution_count": 46,
      "metadata": {
        "colab": {
          "base_uri": "https://localhost:8080/"
        },
        "id": "MR9YyYG4ozla",
        "outputId": "57e46070-c4e1-458a-ba11-cdb65cd61ed1"
      },
      "outputs": [
        {
          "name": "stdout",
          "output_type": "stream",
          "text": [
            "[-1.64485363e+00 -5.97760126e-01 -1.39145821e-16  5.97760126e-01\n",
            "  1.64485363e+00]\n"
          ]
        }
      ],
      "source": [
        "print(grid_x)\n"
      ]
    },
    {
      "cell_type": "code",
      "execution_count": 47,
      "metadata": {},
      "outputs": [
        {
          "name": "stdout",
          "output_type": "stream",
          "text": [
            "[-1.64485363e+00 -5.97760126e-01 -1.39145821e-16  5.97760126e-01\n",
            "  1.64485363e+00]\n"
          ]
        }
      ],
      "source": [
        "print(grid_y)"
      ]
    },
    {
      "cell_type": "code",
      "execution_count": 48,
      "metadata": {
        "colab": {
          "base_uri": "https://localhost:8080/"
        },
        "id": "hPEZ780fpCgd",
        "outputId": "607f0ddb-f372-4727-bb72-ca02529d2ced"
      },
      "outputs": [
        {
          "name": "stdout",
          "output_type": "stream",
          "text": [
            "[[1.64485363 1.64485363]]\n"
          ]
        }
      ],
      "source": [
        "print(z_sample)"
      ]
    }
  ],
  "metadata": {
    "accelerator": "TPU",
    "colab": {
      "collapsed_sections": [],
      "name": "KerasAutoencoders.ipynb",
      "provenance": []
    },
    "kernelspec": {
      "display_name": "Python 3.8.10 64-bit",
      "language": "python",
      "name": "python3"
    },
    "language_info": {
      "codemirror_mode": {
        "name": "ipython",
        "version": 3
      },
      "file_extension": ".py",
      "mimetype": "text/x-python",
      "name": "python",
      "nbconvert_exporter": "python",
      "pygments_lexer": "ipython3",
      "version": "3.8.10"
    },
    "vscode": {
      "interpreter": {
        "hash": "916dbcbb3f70747c44a77c7bcd40155683ae19c65e1c03b4aa3499c5328201f1"
      }
    }
  },
  "nbformat": 4,
  "nbformat_minor": 0
}
