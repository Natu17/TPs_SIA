{
  "cells": [
    {
      "cell_type": "markdown",
      "metadata": {
        "id": "HDMaoeL5lfsq"
      },
      "source": [
        "# Generación por Autoencoders\n",
        "\n",
        "Este ejemplo buenísimo muestra como se puede usar la información del espacio latente de los autoencoders para interpolar nuevos ejemplos de los dígitos de códigos postales de MNIST.\n",
        "\n",
        "Está sacado del libro de Langr, \"GANs in action\""
      ]
    },
    {
      "cell_type": "code",
      "execution_count": 1,
      "metadata": {
        "colab": {
          "base_uri": "https://localhost:8080/"
        },
        "id": "grno4di7hFBf",
        "outputId": "7dd4517a-0470-4de9-cecd-11e1d2217263"
      },
      "outputs": [
        {
          "name": "stderr",
          "output_type": "stream",
          "text": [
            "2022-06-19 17:23:02.070534: W tensorflow/stream_executor/platform/default/dso_loader.cc:64] Could not load dynamic library 'libcudart.so.11.0'; dlerror: libcudart.so.11.0: cannot open shared object file: No such file or directory\n",
            "2022-06-19 17:23:02.070588: I tensorflow/stream_executor/cuda/cudart_stub.cc:29] Ignore above cudart dlerror if you do not have a GPU set up on your machine.\n"
          ]
        },
        {
          "name": "stdout",
          "output_type": "stream",
          "text": [
            "1.22.3\n"
          ]
        }
      ],
      "source": [
        "\n",
        "from __future__ import print_function\n",
        "\n",
        "#!pip install numpy==1.19.5\n",
        "#!pip install tensorflow==2.2.0\n",
        "import numpy as np\n",
        "import matplotlib.pyplot as plt\n",
        "from scipy.stats import norm\n",
        "\n",
        "#from tensorflow import keras\n",
        "### hack tf-keras to appear as top level keras\n",
        "#import sys\n",
        "#sys.modules['keras'] = keras\n",
        "### end of hack\n",
        "\n",
        "from keras.layers import Input, Dense, Lambda, Reshape\n",
        "from keras.models import Model\n",
        "from keras import backend as K\n",
        "from keras import metrics\n",
        "from keras.datasets import mnist\n",
        "\n",
        "from tensorflow.python.framework.ops import disable_eager_execution\n",
        "disable_eager_execution()\n",
        "\n",
        "\n",
        "\n",
        "print(np.__version__)\n",
        "\n"
      ]
    },
    {
      "cell_type": "code",
      "execution_count": 2,
      "metadata": {
        "id": "6gylL5N2hPmv"
      },
      "outputs": [],
      "source": [
        "\n",
        "# defining the key parameters\n",
        "batch_size = 1\n",
        "\n",
        "# Parameters of the input images (handwritten digits)\n",
        "original_dim = 7*5\n",
        "\n",
        "# Latent space is of dimension 2.  This means that we are reducing the dimension from 784 to 2\n",
        "latent_dim = 2\n",
        "intermediate_dim = 15\n",
        "epochs = 50\n",
        "epsilon_std = 1.0"
      ]
    },
    {
      "cell_type": "markdown",
      "metadata": {
        "id": "Rp_GBGkMuWWo"
      },
      "source": [
        "La función de Sampling es la que toma la salida de la media y la varianza que estima el Encoder y la usa para generar una muestra que va a servir a estimar la pdf de los datos."
      ]
    },
    {
      "cell_type": "code",
      "execution_count": 3,
      "metadata": {
        "id": "EaAVBVXmhTVI"
      },
      "outputs": [],
      "source": [
        "def sampling(args: tuple):\n",
        "    # we grab the variables from the tuple\n",
        "    z_mean, z_log_var = args\n",
        "    print(z_mean)\n",
        "    print(z_log_var)\n",
        "    epsilon = K.random_normal(shape=(K.shape(z_mean)[0], latent_dim), mean=0.,\n",
        "                              stddev=epsilon_std)\n",
        "    return z_mean + K.exp(z_log_var / 2) * epsilon  # h(z)"
      ]
    },
    {
      "cell_type": "markdown",
      "metadata": {
        "id": "8cGTlodOriZ-"
      },
      "source": [
        "# Codificador\n",
        "\n",
        "Esta primera parte define el codificador, es decir la primera red que baja la dimensionalidad de los datos."
      ]
    },
    {
      "cell_type": "code",
      "execution_count": 4,
      "metadata": {
        "colab": {
          "base_uri": "https://localhost:8080/"
        },
        "id": "8J2tfwH7hben",
        "outputId": "7a39bb4c-b4ef-41d6-a2c6-8eb4c74834a6"
      },
      "outputs": [
        {
          "name": "stdout",
          "output_type": "stream",
          "text": [
            "Tensor(\"mean/BiasAdd:0\", shape=(None, 2), dtype=float32)\n",
            "Tensor(\"log-variance/BiasAdd:0\", shape=(None, 2), dtype=float32)\n",
            "Model: \"encoder\"\n",
            "__________________________________________________________________________________________________\n",
            " Layer (type)                   Output Shape         Param #     Connected to                     \n",
            "==================================================================================================\n",
            " input (InputLayer)             [(None, 35)]         0           []                               \n",
            "                                                                                                  \n",
            " encoding (Dense)               (None, 15)           540         ['input[0][0]']                  \n",
            "                                                                                                  \n",
            " mean (Dense)                   (None, 2)            32          ['encoding[0][0]']               \n",
            "                                                                                                  \n",
            " log-variance (Dense)           (None, 2)            32          ['encoding[0][0]']               \n",
            "                                                                                                  \n",
            " lambda (Lambda)                (None, 2)            0           ['mean[0][0]',                   \n",
            "                                                                  'log-variance[0][0]']           \n",
            "                                                                                                  \n",
            "==================================================================================================\n",
            "Total params: 604\n",
            "Trainable params: 604\n",
            "Non-trainable params: 0\n",
            "__________________________________________________________________________________________________\n"
          ]
        }
      ],
      "source": [
        "# input to our encoder\n",
        "x = Input(shape=(original_dim,), name=\"input\")\n",
        "# intermediate layer\n",
        "h = Dense(intermediate_dim, activation='relu', name=\"encoding\")(x)\n",
        "# defining the mean of the latent space\n",
        "z_mean = Dense(latent_dim, name=\"mean\")(h)\n",
        "# defining the log variance of the latent space\n",
        "z_log_var = Dense(latent_dim, name=\"log-variance\")(h)\n",
        "# note that \"output_shape\" isn't necessary with the TensorFlow backend\n",
        "z = Lambda(sampling, output_shape=(latent_dim,))([z_mean, z_log_var])\n",
        "# defining the encoder as a keras model\n",
        "encoder = Model(x, [z_mean, z_log_var, z], name=\"encoder\")\n",
        "# print out summary of what we just did\n",
        "encoder.summary()"
      ]
    },
    {
      "cell_type": "markdown",
      "metadata": {
        "id": "OW2bBFULsBSs"
      },
      "source": [
        "# Decodificador\n",
        "\n",
        "Esta segunda parte es la definición del decodificador, que es la segunda parte que decodifica la información del espacio latente hacia la salida final de las dos redes en serie."
      ]
    },
    {
      "cell_type": "code",
      "execution_count": 5,
      "metadata": {
        "colab": {
          "base_uri": "https://localhost:8080/"
        },
        "id": "Ev9fCeGRhqHp",
        "outputId": "176c6046-2c6d-4188-ba79-3f017ae29f35"
      },
      "outputs": [
        {
          "name": "stdout",
          "output_type": "stream",
          "text": [
            "Model: \"decoder\"\n",
            "_________________________________________________________________\n",
            " Layer (type)                Output Shape              Param #   \n",
            "=================================================================\n",
            " decoder_input (InputLayer)  [(None, 2)]               0         \n",
            "                                                                 \n",
            " decoder_h (Dense)           (None, 15)                45        \n",
            "                                                                 \n",
            " flat_decoded (Dense)        (None, 35)                560       \n",
            "                                                                 \n",
            "=================================================================\n",
            "Total params: 605\n",
            "Trainable params: 605\n",
            "Non-trainable params: 0\n",
            "_________________________________________________________________\n"
          ]
        }
      ],
      "source": [
        "# Input to the decoder\n",
        "input_decoder = Input(shape=(latent_dim,), name=\"decoder_input\")\n",
        "# taking the latent space to intermediate dimension\n",
        "decoder_h = Dense(intermediate_dim, activation='relu', name=\"decoder_h\")(input_decoder)\n",
        "# getting the mean from the original dimension\n",
        "x_decoded = Dense(original_dim, activation='sigmoid', name=\"flat_decoded\")(decoder_h)\n",
        "# defining the decoder as a keras model\n",
        "decoder = Model(input_decoder, x_decoded, name=\"decoder\")\n",
        "decoder.summary()"
      ]
    },
    {
      "cell_type": "markdown",
      "metadata": {
        "id": "TuwZuVAbsLlr"
      },
      "source": [
        "# Autoencoder completo\n",
        "\n",
        "Se combinan las dos partes.  Primero el Codificador y luego del decodifcador.  Acá se muestra la información de cómo queda el modelo."
      ]
    },
    {
      "cell_type": "code",
      "execution_count": 6,
      "metadata": {
        "colab": {
          "base_uri": "https://localhost:8080/"
        },
        "id": "iBUymccKhxdf",
        "outputId": "bb35b189-c486-43a3-8245-5c838c6f22f7"
      },
      "outputs": [
        {
          "name": "stdout",
          "output_type": "stream",
          "text": [
            "Tensor(\"encoder/mean/BiasAdd:0\", shape=(None, 2), dtype=float32)\n",
            "Tensor(\"encoder/log-variance/BiasAdd:0\", shape=(None, 2), dtype=float32)\n",
            "Model: \"model\"\n",
            "_________________________________________________________________\n",
            " Layer (type)                Output Shape              Param #   \n",
            "=================================================================\n",
            " input (InputLayer)          [(None, 35)]              0         \n",
            "                                                                 \n",
            " encoder (Functional)        [(None, 2),               604       \n",
            "                              (None, 2),                         \n",
            "                              (None, 2)]                         \n",
            "                                                                 \n",
            " decoder (Functional)        (None, 35)                605       \n",
            "                                                                 \n",
            "=================================================================\n",
            "Total params: 1,209\n",
            "Trainable params: 1,209\n",
            "Non-trainable params: 0\n",
            "_________________________________________________________________\n"
          ]
        }
      ],
      "source": [
        "# grab the output. Recall, that we need to grab the 3rd element our sampling z\n",
        "output_combined = decoder(encoder(x)[2])\n",
        "# link the input and the overall output\n",
        "vae = Model(x, output_combined)\n",
        "# print out what the overall model looks like\n",
        "vae.summary()"
      ]
    },
    {
      "cell_type": "markdown",
      "metadata": {
        "id": "tRcz7RhEsbx9"
      },
      "source": [
        "# Función de perdida\n",
        "\n",
        "Se define la función de perdida, y se establece cuál va a ser la función de optimización."
      ]
    },
    {
      "cell_type": "code",
      "execution_count": 7,
      "metadata": {
        "id": "CAm6NZ6Tf-LZ"
      },
      "outputs": [],
      "source": [
        "import tensorflow as tf\n",
        "from keras.datasets import mnist\n",
        "from keras import metrics"
      ]
    },
    {
      "cell_type": "code",
      "execution_count": 8,
      "metadata": {
        "colab": {
          "base_uri": "https://localhost:8080/"
        },
        "id": "Aqpd08w-h6c_",
        "outputId": "1f63c3c7-0d56-45e4-dac0-8b3331377ccc"
      },
      "outputs": [
        {
          "name": "stdout",
          "output_type": "stream",
          "text": [
            "Model: \"model\"\n",
            "_________________________________________________________________\n",
            " Layer (type)                Output Shape              Param #   \n",
            "=================================================================\n",
            " input (InputLayer)          [(None, 35)]              0         \n",
            "                                                                 \n",
            " encoder (Functional)        [(None, 2),               604       \n",
            "                              (None, 2),                         \n",
            "                              (None, 2)]                         \n",
            "                                                                 \n",
            " decoder (Functional)        (None, 35)                605       \n",
            "                                                                 \n",
            "=================================================================\n",
            "Total params: 1,209\n",
            "Trainable params: 1,209\n",
            "Non-trainable params: 0\n",
            "_________________________________________________________________\n"
          ]
        }
      ],
      "source": [
        "def vae_loss(x: tf.Tensor, x_decoded_mean: tf.Tensor):\n",
        "  # Aca se computa la cross entropy entre los \"labels\" x que son los valores 0/1 de los pixeles, y lo que salió al final del Decoder.\n",
        "  xent_loss = original_dim * metrics.binary_crossentropy(x, x_decoded_mean) # x-^X\n",
        "  kl_loss = - 0.5 * K.sum(1 + z_log_var - K.square(z_mean) - K.exp(z_log_var), axis=-1)\n",
        "  vae_loss = K.mean(xent_loss + kl_loss)\n",
        "  return vae_loss\n",
        "\n",
        "vae.compile( loss=vae_loss)\n",
        "vae.summary()"
      ]
    },
    {
      "cell_type": "markdown",
      "metadata": {
        "id": "QHowf3udskDP"
      },
      "source": [
        "Se cargan los datos"
      ]
    },
    {
      "cell_type": "code",
      "execution_count": 11,
      "metadata": {
        "colab": {
          "base_uri": "https://localhost:8080/"
        },
        "id": "FvdIgDhjh_UO",
        "outputId": "e58b4881-fbf6-4919-8816-d83f27827e1d"
      },
      "outputs": [],
      "source": [
        "import fonts\n",
        "x_train = np.array([x.flatten() for x in fonts.f2])\n",
        "y_train =np.array([x.flatten() for x in fonts.f2])\n",
        "x_test = np.array([x.flatten() for x in fonts.f2])\n",
        "y_test =np.array([x.flatten() for x in fonts.f2])"
      ]
    },
    {
      "cell_type": "markdown",
      "metadata": {
        "id": "duTtPSmvsn3z"
      },
      "source": [
        "Se entrena finalmente la red de forma completa."
      ]
    },
    {
      "cell_type": "code",
      "execution_count": 12,
      "metadata": {
        "colab": {
          "base_uri": "https://localhost:8080/"
        },
        "id": "2Qm1emzwiCu0",
        "outputId": "4731e628-8264-43d2-f71b-880163402610"
      },
      "outputs": [
        {
          "name": "stdout",
          "output_type": "stream",
          "text": [
            "Train on 32 samples\n",
            "Epoch 1/50\n"
          ]
        },
        {
          "name": "stderr",
          "output_type": "stream",
          "text": [
            "2022-06-19 17:24:29.010124: W tensorflow/stream_executor/platform/default/dso_loader.cc:64] Could not load dynamic library 'libcuda.so.1'; dlerror: libcuda.so.1: cannot open shared object file: No such file or directory\n",
            "2022-06-19 17:24:29.010160: W tensorflow/stream_executor/cuda/cuda_driver.cc:269] failed call to cuInit: UNKNOWN ERROR (303)\n",
            "2022-06-19 17:24:29.010184: I tensorflow/stream_executor/cuda/cuda_diagnostics.cc:156] kernel driver does not appear to be running on this host (natu-linux): /proc/driver/nvidia/version does not exist\n",
            "2022-06-19 17:24:29.065987: I tensorflow/core/platform/cpu_feature_guard.cc:193] This TensorFlow binary is optimized with oneAPI Deep Neural Network Library (oneDNN) to use the following CPU instructions in performance-critical operations:  AVX2 FMA\n",
            "To enable them in other operations, rebuild TensorFlow with the appropriate compiler flags.\n",
            "2022-06-19 17:24:29.215023: I tensorflow/compiler/mlir/mlir_graph_optimization_pass.cc:354] MLIR V1 optimization pass is not enabled\n"
          ]
        },
        {
          "name": "stdout",
          "output_type": "stream",
          "text": [
            "32/32 [==============================] - 3s 1ms/sample - loss: 24.6197\n",
            "Epoch 2/50\n",
            "32/32 [==============================] - 0s 2ms/sample - loss: 23.9267\n",
            "Epoch 3/50\n",
            "32/32 [==============================] - 0s 1ms/sample - loss: 23.7826\n",
            "Epoch 4/50\n",
            "32/32 [==============================] - 0s 2ms/sample - loss: 23.4502\n",
            "Epoch 5/50\n",
            "32/32 [==============================] - 0s 2ms/sample - loss: 23.1212\n",
            "Epoch 6/50\n",
            "32/32 [==============================] - 0s 2ms/sample - loss: 22.9646\n",
            "Epoch 7/50\n",
            "32/32 [==============================] - 0s 2ms/sample - loss: 23.0848\n",
            "Epoch 8/50\n",
            "32/32 [==============================] - 0s 3ms/sample - loss: 22.4500\n",
            "Epoch 9/50\n",
            "32/32 [==============================] - 0s 2ms/sample - loss: 22.4529\n",
            "Epoch 10/50\n",
            "32/32 [==============================] - 0s 2ms/sample - loss: 22.3361\n",
            "Epoch 11/50\n",
            "32/32 [==============================] - 0s 1ms/sample - loss: 22.1077\n",
            "Epoch 12/50\n",
            "32/32 [==============================] - 0s 1ms/sample - loss: 21.9200\n",
            "Epoch 13/50\n",
            "32/32 [==============================] - 0s 2ms/sample - loss: 22.2032\n",
            "Epoch 14/50\n",
            "32/32 [==============================] - 0s 1ms/sample - loss: 21.8171\n",
            "Epoch 15/50\n",
            "32/32 [==============================] - 0s 2ms/sample - loss: 21.8199\n",
            "Epoch 16/50\n",
            "32/32 [==============================] - 0s 2ms/sample - loss: 21.6403\n",
            "Epoch 17/50\n",
            "32/32 [==============================] - 0s 1ms/sample - loss: 21.2120\n",
            "Epoch 18/50\n",
            "32/32 [==============================] - 0s 1ms/sample - loss: 21.5748\n",
            "Epoch 19/50\n",
            "32/32 [==============================] - 0s 1ms/sample - loss: 21.6469\n",
            "Epoch 20/50\n",
            "32/32 [==============================] - 0s 2ms/sample - loss: 21.3562\n",
            "Epoch 21/50\n",
            "32/32 [==============================] - 0s 2ms/sample - loss: 21.4937\n",
            "Epoch 22/50\n",
            "32/32 [==============================] - 0s 1ms/sample - loss: 20.8504\n",
            "Epoch 23/50\n",
            "32/32 [==============================] - 0s 2ms/sample - loss: 20.8951\n",
            "Epoch 24/50\n",
            "32/32 [==============================] - 0s 1ms/sample - loss: 21.0210\n",
            "Epoch 25/50\n",
            "32/32 [==============================] - 0s 1ms/sample - loss: 20.4533\n",
            "Epoch 26/50\n",
            "32/32 [==============================] - 0s 1ms/sample - loss: 20.8601\n",
            "Epoch 27/50\n",
            "32/32 [==============================] - 0s 2ms/sample - loss: 20.9110\n",
            "Epoch 28/50\n",
            "32/32 [==============================] - 0s 2ms/sample - loss: 20.8065\n",
            "Epoch 29/50\n",
            "32/32 [==============================] - 0s 2ms/sample - loss: 20.8956\n",
            "Epoch 30/50\n",
            "32/32 [==============================] - 0s 2ms/sample - loss: 20.6768\n",
            "Epoch 31/50\n",
            "32/32 [==============================] - 0s 2ms/sample - loss: 20.5883\n",
            "Epoch 32/50\n",
            "32/32 [==============================] - 0s 2ms/sample - loss: 20.8563\n",
            "Epoch 33/50\n",
            "32/32 [==============================] - 0s 1ms/sample - loss: 20.5305\n",
            "Epoch 34/50\n",
            "32/32 [==============================] - 0s 1ms/sample - loss: 20.1714\n",
            "Epoch 35/50\n",
            "32/32 [==============================] - 0s 2ms/sample - loss: 20.2024\n",
            "Epoch 36/50\n",
            "32/32 [==============================] - 0s 2ms/sample - loss: 20.6400\n",
            "Epoch 37/50\n",
            "32/32 [==============================] - 0s 2ms/sample - loss: 20.8579\n",
            "Epoch 38/50\n",
            "32/32 [==============================] - 0s 2ms/sample - loss: 20.2668\n",
            "Epoch 39/50\n",
            "32/32 [==============================] - 0s 2ms/sample - loss: 20.7876\n",
            "Epoch 40/50\n",
            "32/32 [==============================] - 0s 2ms/sample - loss: 20.5095\n",
            "Epoch 41/50\n",
            "32/32 [==============================] - 0s 1ms/sample - loss: 20.5508\n",
            "Epoch 42/50\n",
            "32/32 [==============================] - 0s 1ms/sample - loss: 20.1937\n",
            "Epoch 43/50\n",
            "32/32 [==============================] - 0s 2ms/sample - loss: 20.0588\n",
            "Epoch 44/50\n",
            "32/32 [==============================] - 0s 2ms/sample - loss: 20.5694\n",
            "Epoch 45/50\n",
            "32/32 [==============================] - 0s 1ms/sample - loss: 20.3363\n",
            "Epoch 46/50\n",
            "32/32 [==============================] - 0s 2ms/sample - loss: 19.5337\n",
            "Epoch 47/50\n",
            "32/32 [==============================] - 0s 1ms/sample - loss: 19.8028\n",
            "Epoch 48/50\n",
            "32/32 [==============================] - 0s 2ms/sample - loss: 20.4034\n",
            "Epoch 49/50\n",
            "32/32 [==============================] - 0s 1ms/sample - loss: 20.2093\n",
            "Epoch 50/50\n",
            "32/32 [==============================] - 0s 2ms/sample - loss: 20.1212\n"
          ]
        },
        {
          "data": {
            "text/plain": [
              "<keras.callbacks.History at 0x7f44d2d1cac0>"
            ]
          },
          "execution_count": 12,
          "metadata": {},
          "output_type": "execute_result"
        }
      ],
      "source": [
        "vae.fit(x_train, x_train,\n",
        "        shuffle=True,\n",
        "        epochs=epochs,\n",
        "        batch_size=batch_size)\n"
      ]
    },
    {
      "cell_type": "code",
      "execution_count": 14,
      "metadata": {
        "colab": {
          "base_uri": "https://localhost:8080/",
          "height": 432
        },
        "id": "M7KBqKG0lHpv",
        "outputId": "d9382af7-f5ad-4e65-8e45-1c6d25c901ec"
      },
      "outputs": [
        {
          "data": {
            "image/png": "[encoded data removed]",
            "text/plain": [
              "<Figure size 432x432 with 2 Axes>"
            ]
          },
          "metadata": {
            "needs_background": "light"
          },
          "output_type": "display_data"
        }
      ],
      "source": [
        "x_test_encoded = encoder.predict(x_test, batch_size=batch_size)[0]\n",
        "plt.figure(figsize=(6, 6))\n",
        "plt.scatter(x_test_encoded[:,0], x_test_encoded[:,1], cmap='viridis')\n",
        "plt.colorbar()\n",
        "plt.show()"
      ]
    },
    {
      "cell_type": "code",
      "execution_count": 15,
      "metadata": {
        "colab": {
          "base_uri": "https://localhost:8080/",
          "height": 649
        },
        "id": "vOOvIVeAlR1-",
        "outputId": "0b5436a8-f876-47b4-a8ad-248e0a28aaa8"
      },
      "outputs": [
        {
          "ename": "ValueError",
          "evalue": "cannot reshape array of size 35 into shape (28,28)",
          "output_type": "error",
          "traceback": [
            "\u001b[0;31m---------------------------------------------------------------------------\u001b[0m",
            "\u001b[0;31mValueError\u001b[0m                                Traceback (most recent call last)",
            "\u001b[1;32m/home/natu/Itba/sia/TPs_SIA/TP5/KerasAutoencoders.ipynb Cell 20'\u001b[0m in \u001b[0;36m<cell line: 9>\u001b[0;34m()\u001b[0m\n\u001b[1;32m     <a href='vscode-notebook-cell:/home/natu/Itba/sia/TPs_SIA/TP5/KerasAutoencoders.ipynb#ch0000019?line=10'>11</a>\u001b[0m         z_sample \u001b[39m=\u001b[39m np\u001b[39m.\u001b[39marray([[xi, yi]])\n\u001b[1;32m     <a href='vscode-notebook-cell:/home/natu/Itba/sia/TPs_SIA/TP5/KerasAutoencoders.ipynb#ch0000019?line=11'>12</a>\u001b[0m         x_decoded \u001b[39m=\u001b[39m decoder\u001b[39m.\u001b[39mpredict(z_sample)\n\u001b[0;32m---> <a href='vscode-notebook-cell:/home/natu/Itba/sia/TPs_SIA/TP5/KerasAutoencoders.ipynb#ch0000019?line=12'>13</a>\u001b[0m         digit \u001b[39m=\u001b[39m x_decoded[\u001b[39m0\u001b[39;49m]\u001b[39m.\u001b[39;49mreshape(digit_size, digit_size)\n\u001b[1;32m     <a href='vscode-notebook-cell:/home/natu/Itba/sia/TPs_SIA/TP5/KerasAutoencoders.ipynb#ch0000019?line=13'>14</a>\u001b[0m         figure[i \u001b[39m*\u001b[39m digit_size: (i \u001b[39m+\u001b[39m \u001b[39m1\u001b[39m) \u001b[39m*\u001b[39m digit_size,\n\u001b[1;32m     <a href='vscode-notebook-cell:/home/natu/Itba/sia/TPs_SIA/TP5/KerasAutoencoders.ipynb#ch0000019?line=14'>15</a>\u001b[0m                j \u001b[39m*\u001b[39m digit_size: (j \u001b[39m+\u001b[39m \u001b[39m1\u001b[39m) \u001b[39m*\u001b[39m digit_size] \u001b[39m=\u001b[39m digit\n\u001b[1;32m     <a href='vscode-notebook-cell:/home/natu/Itba/sia/TPs_SIA/TP5/KerasAutoencoders.ipynb#ch0000019?line=16'>17</a>\u001b[0m plt\u001b[39m.\u001b[39mfigure(figsize\u001b[39m=\u001b[39m(\u001b[39m10\u001b[39m, \u001b[39m10\u001b[39m))\n",
            "\u001b[0;31mValueError\u001b[0m: cannot reshape array of size 35 into shape (28,28)"
          ]
        }
      ],
      "source": [
        "n = 15  # figure with 15x15 digits\n",
        "digit_size = 28\n",
        "figure = np.zeros((digit_size * n, digit_size * n))\n",
        "# linearly spaced coordinates on the unit square were transformed through the inverse CDF (ppf) of the Gaussian\n",
        "# to produce values of the latent variables z, since the prior of the latent space is Gaussian\n",
        "grid_x = norm.ppf(np.linspace(0.05, 0.95, n))\n",
        "grid_y = norm.ppf(np.linspace(0.05, 0.95, n))\n",
        "\n",
        "for i, yi in enumerate(grid_x):\n",
        "    for j, xi in enumerate(grid_y):\n",
        "        z_sample = np.array([[xi, yi]])\n",
        "        x_decoded = decoder.predict(z_sample)\n",
        "        digit = x_decoded[0].reshape(digit_size, digit_size)\n",
        "        figure[i * digit_size: (i + 1) * digit_size,\n",
        "               j * digit_size: (j + 1) * digit_size] = digit\n",
        "\n",
        "plt.figure(figsize=(10, 10))\n",
        "plt.imshow(figure, cmap='Greys_r')\n",
        "plt.show()"
      ]
    },
    {
      "cell_type": "code",
      "execution_count": null,
      "metadata": {
        "colab": {
          "base_uri": "https://localhost:8080/"
        },
        "id": "MR9YyYG4ozla",
        "outputId": "57e46070-c4e1-458a-ba11-cdb65cd61ed1"
      },
      "outputs": [
        {
          "name": "stdout",
          "output_type": "stream",
          "text": [
            "[-1.64485363e+00 -1.20404696e+00 -9.20822976e-01 -6.97141435e-01\n",
            " -5.03965367e-01 -3.28072108e-01 -1.61844167e-01 -1.39145821e-16\n",
            "  1.61844167e-01  3.28072108e-01  5.03965367e-01  6.97141435e-01\n",
            "  9.20822976e-01  1.20404696e+00  1.64485363e+00]\n"
          ]
        }
      ],
      "source": [
        "print(grid_x)\n"
      ]
    },
    {
      "cell_type": "code",
      "execution_count": null,
      "metadata": {
        "colab": {
          "base_uri": "https://localhost:8080/"
        },
        "id": "hPEZ780fpCgd",
        "outputId": "607f0ddb-f372-4727-bb72-ca02529d2ced"
      },
      "outputs": [
        {
          "name": "stdout",
          "output_type": "stream",
          "text": [
            "[[1.64485363 1.64485363]]\n"
          ]
        }
      ],
      "source": [
        "print(z_sample)"
      ]
    }
  ],
  "metadata": {
    "accelerator": "TPU",
    "colab": {
      "collapsed_sections": [],
      "name": "KerasAutoencoders.ipynb",
      "provenance": []
    },
    "kernelspec": {
      "display_name": "Python 3.8.10 64-bit",
      "language": "python",
      "name": "python3"
    },
    "language_info": {
      "codemirror_mode": {
        "name": "ipython",
        "version": 3
      },
      "file_extension": ".py",
      "mimetype": "text/x-python",
      "name": "python",
      "nbconvert_exporter": "python",
      "pygments_lexer": "ipython3",
      "version": "3.8.10"
    },
    "vscode": {
      "interpreter": {
        "hash": "916dbcbb3f70747c44a77c7bcd40155683ae19c65e1c03b4aa3499c5328201f1"
      }
    }
  },
  "nbformat": 4,
  "nbformat_minor": 0
}
