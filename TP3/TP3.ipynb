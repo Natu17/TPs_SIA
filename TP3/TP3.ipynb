{
 "cells": [
  {
   "cell_type": "code",
   "execution_count": 5,
   "metadata": {
    "id": "5hKrwvXlgrcu"
   },
   "outputs": [],
   "source": [
    "import numpy as np\n",
    "from network import Network\n",
    "import matplotlib.pyplot as plt\n",
    "import matplotlib.animation as animation\n",
    "\n"
   ]
  },
  {
   "cell_type": "markdown",
   "metadata": {
    "id": "fWTMRYNygnHW"
   },
   "source": [
    "## Ejercicio 1"
   ]
  },
  {
   "cell_type": "code",
   "execution_count": 6,
   "metadata": {
    "id": "eKSvjSsQhXa0"
   },
   "outputs": [],
   "source": [
    "def plot(dataset, network):\n",
    "    X = [x[0][0] for x in dataset]\n",
    "    Y = [x[0][1] for x in dataset]\n",
    "    c = [x[1][0] for x in dataset]\n",
    "\n",
    "    plt.scatter(X, Y, c=c,  cmap=\"coolwarm\")\n",
    "\n",
    "    m, a, b = network.w[-1][0]  # mx + ay + b = 0\n",
    "\n",
    "    x = np.linspace(-2, 2, 100)\n",
    "    y = (-m*x - b)/a\n",
    "    plt.plot(x, y)\n",
    "    plt.xlim(-2,2)\n",
    "    plt.ylim(-2,2)\n",
    "    plt.show()\n"
   ]
  },
  {
   "cell_type": "markdown",
   "metadata": {
    "id": "gvHmG3dihV-t"
   },
   "source": [
    "### 1.a"
   ]
  },
  {
   "cell_type": "code",
   "execution_count": 7,
   "metadata": {
    "colab": {
     "base_uri": "https://localhost:8080/",
     "height": 269
    },
    "id": "3Dd_PNzEeXJj",
    "outputId": "bed4daea-c25b-4584-d42f-efd2e8a4baf0"
   },
   "outputs": [
    {
     "data": {
      "image/png": "[encoded data removed]",
      "text/plain": [
       "<Figure size 432x288 with 1 Axes>"
      ]
     },
     "metadata": {
      "needs_background": "light"
     },
     "output_type": "display_data"
    }
   ],
   "source": [
    "dataset = [\n",
    "  [[-1, -1], [-1]],\n",
    "  [[-1, 1], [-1]],\n",
    "  [[1, -1], [-1]],\n",
    "  [[1, 1], [1]]\n",
    "]\n",
    "\n",
    "network = Network(structure=([2, 1]), activation='step', seed=17)\n",
    "network.train(dataset)\n",
    "\n",
    "plt.figure(\"AND\")\n",
    "plot(dataset,network)\n",
    "\n"
   ]
  },
  {
   "cell_type": "markdown",
   "metadata": {},
   "source": [
    "#### animation"
   ]
  },
  {
   "cell_type": "code",
   "execution_count": 8,
   "metadata": {},
   "outputs": [],
   "source": [
    "plt.figure(\"AND animation\")\n",
    "data = []\n",
    "x = np.linspace(-2, 2, 100)\n",
    "line, =plt.plot(x,x)\n",
    "X = [x[0][0] for x in dataset]\n",
    "Y = [x[0][1] for x in dataset]\n",
    "c = [x[1][0] for x in dataset]\n",
    "plt.scatter(X, Y, c=c, cmap=\"coolwarm\")\n",
    "def callback(network):\n",
    "    m, a, b = network.w[-1][0]  # mx + ay + b = 0\n",
    "    data.append((m,a,b))\n",
    "\n",
    "def update(frame):\n",
    "    m, a, b = data[frame]\n",
    "    y = (-m*x - b)/a\n",
    "    line.set_ydata(y)\n",
    "    return line\n",
    "network = Network(structure=([2, 1]), activation='tanh', seed=17)\n",
    "\n",
    "network.train(dataset, epochs=100, callback=callback, learning_rate=0.01)\n",
    "anim = animation.FuncAnimation(plt.gcf(), update, frames=len(data)-1, interval=60)\n",
    "\n",
    "anim.save('ej1.a.mp4', writer='imagemagick')\n",
    "\n",
    "anim = []\n",
    "\n",
    "update(len(data)-1)\n",
    "\n",
    "plt.show()\n",
    "\n",
    "\n",
    "\n"
   ]
  },
  {
   "cell_type": "markdown",
   "metadata": {
    "id": "ALcsj8ALiECL"
   },
   "source": [
    "### 1.b"
   ]
  },
  {
   "cell_type": "code",
   "execution_count": null,
   "metadata": {
    "colab": {
     "base_uri": "https://localhost:8080/",
     "height": 269
    },
    "id": "UfcL70jwiFj2",
    "outputId": "cf6f5abf-ed71-4817-ce71-8f7b1f075567"
   },
   "outputs": [],
   "source": [
    "dataset = [\n",
    "    [[-1, -1], [-1]],\n",
    "    [[-1, 1], [1]],\n",
    "    [[1, -1], [1]],\n",
    "    [[1, 1], [-1]]\n",
    "]\n",
    "\n",
    "\n",
    "network = Network(structure=([2, 1]), activation='step', seed=17)\n",
    "network.train(dataset, epochs=1000)\n",
    "\n",
    "plot(dataset,network)\n"
   ]
  },
  {
   "cell_type": "markdown",
   "metadata": {},
   "source": [
    "## Ejercicio 2"
   ]
  },
  {
   "cell_type": "code",
   "execution_count": null,
   "metadata": {},
   "outputs": [],
   "source": [
    "from datasets import training_dataset_2\n",
    "\n",
    "expected = [y[0] for x,y in training_dataset_2]\n",
    "\n",
    "max_value = max(expected)\n",
    "min_value = min(expected)\n",
    "\n",
    "delta = (max_value - min_value)/2\n",
    "\n",
    "normalized = []\n",
    "\n",
    "for (x,y), v in zip(training_dataset_2, expected):\n",
    "    e = (v - min_value)/delta -1\n",
    "    normalized.append((x,[e]))\n"
   ]
  },
  {
   "cell_type": "markdown",
   "metadata": {},
   "source": [
    "### Lineal"
   ]
  },
  {
   "cell_type": "code",
   "execution_count": null,
   "metadata": {},
   "outputs": [],
   "source": [
    "\n",
    "network = Network(structure=([3, 1]), activation='lineal', seed=17, args={'b':0.1})\n",
    "errors = network.train(normalized, batch_size=1, epochs=100, learning_rate=0.1, momentum=0)\n",
    "plt.figure(\"Lineal error\")\n",
    "plt.yscale('log')\n",
    "#plt.xscale('log')\n",
    "plt.plot(errors)\n",
    "plt.show()\n",
    "\n",
    "\n"
   ]
  },
  {
   "cell_type": "markdown",
   "metadata": {},
   "source": [
    "### No lineal"
   ]
  },
  {
   "cell_type": "code",
   "execution_count": null,
   "metadata": {},
   "outputs": [],
   "source": [
    "network = Network(structure=([3, 1]), activation='tanh', seed=17)\n",
    "errors = network.train(normalized, epochs=20, learning_rate=0.01, momentum=0.3)\n",
    "plt.figure(\"Non-lineal error\")\n",
    "plt.yscale('log')\n",
    "plt.plot(errors)\n",
    "plt.show()"
   ]
  },
  {
   "cell_type": "markdown",
   "metadata": {
    "id": "d1Fq3Eh4jUFe"
   },
   "source": [
    "## Ejercicio 3"
   ]
  },
  {
   "cell_type": "markdown",
   "metadata": {
    "id": "N4rXq0DgjVnd"
   },
   "source": [
    "### 3.a"
   ]
  },
  {
   "cell_type": "code",
   "execution_count": null,
   "metadata": {
    "id": "bg0YL8X3j-tS"
   },
   "outputs": [],
   "source": [
    "lim = 1\n",
    "size = 100\n",
    "x = np.linspace(-lim, lim, size)\n",
    "y = np.linspace(-lim, lim, size)\n",
    "sample = [[i, j] for i in x for j in y]\n",
    "\n",
    "def plot(network):\n",
    "  img = np.zeros((size, size))\n",
    "  for i in range(size):\n",
    "      for j in range(size):\n",
    "          img[i][j] = network.feedforward([x[i], y[j]])[0]\n",
    "  \n",
    "  plt.pcolormesh(x, y, img, vmin=-1, vmax=1, shading='gouraud' ,cmap=\"coolwarm\")"
   ]
  },
  {
   "cell_type": "code",
   "execution_count": null,
   "metadata": {
    "colab": {
     "base_uri": "https://localhost:8080/",
     "height": 265
    },
    "id": "KF-IsKo9jYc2",
    "outputId": "a580a280-4931-4d3a-a2b4-e97746be3fd2"
   },
   "outputs": [],
   "source": [
    "dataset = [\n",
    "    [[-1, -1], [-1]],\n",
    "    [[-1, 1], [1]],\n",
    "    [[1, -1], [1]],\n",
    "    [[1, 1], [-1]]\n",
    "]\n",
    "\n",
    "network = Network(structure=(\n",
    "    [2, 3, 2, 1]), activation='tanh', seed=17, args={'b': 1})\n",
    "network.train(dataset, learning_rate=0.1, target_error=0.01, momentum=0.9)\n",
    "print(\"Error: {:.2e}\".format(network.error(dataset)))\n",
    "plot(network)"
   ]
  },
  {
   "cell_type": "code",
   "execution_count": null,
   "metadata": {},
   "outputs": [],
   "source": [
    "plt.figure(\"Error vs epoch\")\n",
    "rates =[0.01, 0.05, 0.1]\n",
    "for rate in rates:\n",
    "    network = Network(structure=([2, 3, 2, 1]), activation='tanh', seed=17, args={'b': 1})\n",
    "    errors = network.train(dataset, learning_rate=rate, epochs=1000, momentum=0.9)\n",
    "    plt.plot(errors, label=\"Learning rate: {}\".format(rate))\n",
    "plt.legend()\n",
    "plt.yscale('log')\n",
    "plt.xscale('log')\n",
    "plt.show()"
   ]
  },
  {
   "cell_type": "code",
   "execution_count": null,
   "metadata": {},
   "outputs": [],
   "source": [
    "plt.figure(\"Error vs epoch - momentum\")\n",
    "momentums =[0, 0.3, 0.9]\n",
    "for m in momentums:\n",
    "    network = Network(structure=([2, 3, 2, 1]), activation='tanh', seed=17, args={'b': 1})\n",
    "    errors = network.train(dataset, epochs=1000, momentum=m)\n",
    "    plt.plot(errors, label=\"Momentum: {}\".format(m))\n",
    "plt.legend()\n",
    "plt.yscale('log')\n",
    "plt.show()"
   ]
  },
  {
   "cell_type": "markdown",
   "metadata": {},
   "source": [
    "### 3.b"
   ]
  },
  {
   "cell_type": "code",
   "execution_count": null,
   "metadata": {},
   "outputs": [],
   "source": [
    "from datasets import number_images\n",
    "\n",
    "dataset = []\n",
    "\n",
    "for i, img in enumerate(number_images):\n",
    "    dataset.append((np.array(img).flatten(), [1-(2*(i%2) - 1)]))\n",
    "\n"
   ]
  },
  {
   "cell_type": "code",
   "execution_count": null,
   "metadata": {},
   "outputs": [],
   "source": [
    "network = Network(structure=([35, 30, 20, 10, 5, 1]), activation='tanh', seed=17, args={'b': 1})\n",
    "errors = network.train(dataset, learning_rate=0.01, epochs=1000, momentum=0.9)\n",
    "\n",
    "plt.figure(\"error - Par o impar\")\n",
    "plt.yscale('log')\n",
    "plt.plot(errors)\n",
    "plt.show()\n",
    "\n",
    "x = [ i for i in range(10)]\n",
    "y = [ network.feedforward(dataset[i][0])[0] for i in x]\n",
    "\n",
    "plt.figure(\"par o impar\")\n",
    "plt.scatter(x,y)\n",
    "plt.xticks(x)\n",
    "plt.show()"
   ]
  },
  {
   "cell_type": "markdown",
   "metadata": {},
   "source": [
    "### 3.c"
   ]
  },
  {
   "cell_type": "code",
   "execution_count": null,
   "metadata": {},
   "outputs": [],
   "source": [
    "from datasets import number_images\n",
    "\n",
    "dataset = []\n",
    "\n",
    "\n",
    "for i, img in enumerate(number_images):\n",
    "    dataset.append((np.array(img).flatten(), [\n",
    "                   1 if j == i else 0 for j in range(10)]))\n",
    "\n"
   ]
  },
  {
   "cell_type": "code",
   "execution_count": null,
   "metadata": {},
   "outputs": [],
   "source": [
    "network = Network(structure=([35, 30, 20, 10]), activation='sigmoid', seed=17, args={'b': 2})\n",
    "errors = network.train(dataset, learning_rate=0.1, epochs=1000, momentum=0)\n",
    "\n",
    "plt.figure(\"error - number recon\")\n",
    "plt.yscale('log')\n",
    "plt.plot(errors)\n",
    "plt.show()\n",
    "\n",
    "plt.figure(\"1\")\n",
    "\n",
    "n = 8\n",
    "\n",
    "output = network.feedforward(dataset[n][0])\n",
    "x= [i for i in range(10)]\n",
    "plt.scatter(x,output)\n",
    "plt.show()"
   ]
  }
 ],
 "metadata": {
  "colab": {
   "collapsed_sections": [],
   "name": "TP3.ipynb",
   "provenance": []
  },
  "kernelspec": {
   "display_name": "Python 3 (ipykernel)",
   "language": "python",
   "name": "python3"
  },
  "language_info": {
   "codemirror_mode": {
    "name": "ipython",
    "version": 3
   },
   "file_extension": ".py",
   "mimetype": "text/x-python",
   "name": "python",
   "nbconvert_exporter": "python",
   "pygments_lexer": "ipython3",
   "version": "3.8.10"
  }
 },
 "nbformat": 4,
 "nbformat_minor": 1
}
