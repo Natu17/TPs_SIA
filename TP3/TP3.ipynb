{
 "cells": [
  {
   "cell_type": "code",
   "execution_count": 1,
   "metadata": {
    "id": "5hKrwvXlgrcu"
   },
   "outputs": [],
   "source": [
    "import numpy as np\n",
    "from network import Network\n",
    "import matplotlib.pyplot as plt\n",
    "import matplotlib.animation as animation\n",
    "from mpl_toolkits import mplot3d\n",
    "import metrics\n",
    "\n",
    "plt.rcParams.update({'font.size': 20})\n",
    "plt.rc('figure', figsize=(20, 10))\n"
   ]
  },
  {
   "cell_type": "markdown",
   "metadata": {
    "id": "fWTMRYNygnHW"
   },
   "source": [
    "## Ejercicio 1"
   ]
  },
  {
   "cell_type": "code",
   "execution_count": null,
   "metadata": {
    "id": "eKSvjSsQhXa0"
   },
   "outputs": [],
   "source": [
    "def plot(dataset, network):\n",
    "    X = [x[0][0] for x in dataset]\n",
    "    Y = [x[0][1] for x in dataset]\n",
    "    c = [x[1][0] for x in dataset]\n",
    "\n",
    "    plt.scatter(X, Y, c=c,  cmap=\"coolwarm\")\n",
    "\n",
    "    m, a, b = network.w[-1][0]  # mx + ay + b = 0\n",
    "\n",
    "    x = np.linspace(-2, 2, 100)\n",
    "    y = (-m*x - b)/a\n",
    "    plt.plot(x, y)\n",
    "    plt.xlim(-2, 2)\n",
    "    plt.ylim(-2, 2)\n",
    "    plt.show()\n"
   ]
  },
  {
   "cell_type": "markdown",
   "metadata": {
    "id": "gvHmG3dihV-t"
   },
   "source": [
    "### 1.a"
   ]
  },
  {
   "cell_type": "code",
   "execution_count": null,
   "metadata": {
    "colab": {
     "base_uri": "https://localhost:8080/",
     "height": 269
    },
    "id": "3Dd_PNzEeXJj",
    "outputId": "bed4daea-c25b-4584-d42f-efd2e8a4baf0"
   },
   "outputs": [],
   "source": [
    "dataset = [\n",
    "    [[-1, -1], [-1]],\n",
    "    [[-1, 1], [-1]],\n",
    "    [[1, -1], [-1]],\n",
    "    [[1, 1], [1]]\n",
    "]\n",
    "\n",
    "network = Network(structure=([2, 1]), activation='step', seed=17)\n",
    "network.train(dataset)\n",
    "\n",
    "plt.figure(\"AND\")\n",
    "plot(dataset, network)\n"
   ]
  },
  {
   "cell_type": "markdown",
   "metadata": {},
   "source": [
    "#### animation"
   ]
  },
  {
   "cell_type": "code",
   "execution_count": null,
   "metadata": {},
   "outputs": [],
   "source": [
    "plt.figure(\"AND animation\")\n",
    "data = []\n",
    "x = np.linspace(-2, 2, 100)\n",
    "line, = plt.plot(x, x)\n",
    "X = [x[0][0] for x in dataset]\n",
    "Y = [x[0][1] for x in dataset]\n",
    "c = [x[1][0] for x in dataset]\n",
    "plt.scatter(X, Y, c=c, cmap=\"coolwarm\")\n",
    "\n",
    "\n",
    "def callback(network):\n",
    "    m, a, b = network.w[-1][0]  # mx + ay + b = 0\n",
    "    data.append((m, a, b))\n",
    "\n",
    "\n",
    "def update(frame):\n",
    "    m, a, b = data[frame]\n",
    "    y = (-m*x - b)/a\n",
    "    line.set_ydata(y)\n",
    "    return line\n",
    "\n",
    "\n",
    "network = Network(structure=([2, 1]), activation='tanh', seed=17)\n",
    "\n",
    "network.train(dataset, epochs=100, callback=callback, learning_rate=0.01)\n",
    "anim = animation.FuncAnimation(\n",
    "    plt.gcf(), update, frames=len(data)-1, interval=1)\n",
    "\n",
    "anim.save('ej1.a.mp4', fps=60)\n",
    "\n",
    "#anim = []\n",
    "\n",
    "update(len(data)-1)\n",
    "\n",
    "plt.show()\n"
   ]
  },
  {
   "cell_type": "markdown",
   "metadata": {
    "id": "ALcsj8ALiECL"
   },
   "source": [
    "### 1.b"
   ]
  },
  {
   "cell_type": "code",
   "execution_count": null,
   "metadata": {
    "colab": {
     "base_uri": "https://localhost:8080/",
     "height": 269
    },
    "id": "UfcL70jwiFj2",
    "outputId": "cf6f5abf-ed71-4817-ce71-8f7b1f075567"
   },
   "outputs": [],
   "source": [
    "dataset = [\n",
    "    [[-1, -1], [-1]],\n",
    "    [[-1, 1], [1]],\n",
    "    [[1, -1], [1]],\n",
    "    [[1, 1], [-1]]\n",
    "]\n",
    "\n",
    "\n",
    "network = Network(structure=([2, 1]), activation='step', seed=17)\n",
    "network.train(dataset, epochs=1000)\n",
    "\n",
    "plot(dataset, network)\n"
   ]
  },
  {
   "cell_type": "markdown",
   "metadata": {},
   "source": [
    "## Ejercicio 2"
   ]
  },
  {
   "cell_type": "code",
   "execution_count": null,
   "metadata": {},
   "outputs": [],
   "source": [
    "from datasets import training_dataset_2\n",
    "\n",
    "expected = [y[0] for x, y in training_dataset_2]\n",
    "\n",
    "max_value = max(expected)\n",
    "min_value = min(expected)\n",
    "\n",
    "delta = (max_value - min_value)/2\n",
    "\n",
    "normalized = []\n",
    "\n",
    "for (x, y), v in zip(training_dataset_2, expected):\n",
    "    e = (v - min_value)/delta - 1\n",
    "    normalized.append((x, [e]))\n",
    "\n",
    "\n",
    "plt.figure(\"Dataset 2\")\n",
    "ax = plt.axes(projection='3d')\n",
    "\n",
    "X = [x[0][0] for x in training_dataset_2]\n",
    "Y = [x[0][1] for x in training_dataset_2]\n",
    "Z = [x[0][2] for x in training_dataset_2]\n",
    "c = [x[1][0] for x in training_dataset_2]\n",
    "ax.scatter3D(X, Y, Z, c=c, cmap=\"winter\", s=200)\n",
    "ax.set_xlabel('X', labelpad=20)\n",
    "ax.set_ylabel('Y', labelpad=20)\n",
    "ax.set_zlabel('Z', labelpad=20)\n",
    "\n",
    "plt.show()\n"
   ]
  },
  {
   "cell_type": "markdown",
   "metadata": {},
   "source": [
    "### Lineal"
   ]
  },
  {
   "cell_type": "code",
   "execution_count": null,
   "metadata": {},
   "outputs": [],
   "source": [
    "\n",
    "network = Network(structure=([3, 1]),\n",
    "                  activation='lineal', seed=17, args={'b': 0.1})\n",
    "errors = network.train(training_dataset_2, batch_size=1,\n",
    "                       epochs=100, learning_rate=0.1, momentum=0)\n",
    "plt.figure(\"Lineal error\")\n",
    "plt.yscale('log')\n",
    "# plt.xscale('log')\n",
    "plt.plot(errors)\n",
    "plt.show()\n"
   ]
  },
  {
   "cell_type": "markdown",
   "metadata": {},
   "source": [
    "### No lineal"
   ]
  },
  {
   "cell_type": "code",
   "execution_count": null,
   "metadata": {},
   "outputs": [],
   "source": [
    "network = Network(structure=([3, 1]), activation='tanh', seed=17)\n",
    "errors = network.train(normalized, epochs=20, learning_rate=0.01, momentum=0)\n",
    "\n",
    "errors = np.array(errors)*delta**2\n",
    "plt.figure(\"Non-lineal error\")\n",
    "plt.yscale('log')\n",
    "plt.plot(errors)\n",
    "plt.show()\n"
   ]
  },
  {
   "cell_type": "markdown",
   "metadata": {
    "id": "d1Fq3Eh4jUFe"
   },
   "source": [
    "## Ejercicio 3"
   ]
  },
  {
   "cell_type": "markdown",
   "metadata": {
    "id": "N4rXq0DgjVnd"
   },
   "source": [
    "### 3.a"
   ]
  },
  {
   "cell_type": "code",
   "execution_count": null,
   "metadata": {
    "id": "bg0YL8X3j-tS"
   },
   "outputs": [],
   "source": [
    "lim = 1\n",
    "size = 100\n",
    "x = np.linspace(-lim, lim, size)\n",
    "y = np.linspace(-lim, lim, size)\n",
    "sample = [[i, j] for i in x for j in y]\n",
    "\n",
    "\n",
    "def plot(network):\n",
    "    img = np.zeros((size, size))\n",
    "    for i in range(size):\n",
    "        for j in range(size):\n",
    "            img[i][j] = network.feedforward([x[i], y[j]])[0]\n",
    "\n",
    "    plt.pcolormesh(x, y, img, vmin=-1, vmax=1,\n",
    "                   shading=\"gouraud\", cmap=\"coolwarm\")\n"
   ]
  },
  {
   "cell_type": "code",
   "execution_count": null,
   "metadata": {
    "colab": {
     "base_uri": "https://localhost:8080/",
     "height": 265
    },
    "id": "KF-IsKo9jYc2",
    "outputId": "a580a280-4931-4d3a-a2b4-e97746be3fd2"
   },
   "outputs": [],
   "source": [
    "dataset = [\n",
    "    [[-1, -1], [-1]],\n",
    "    [[-1, 1], [1]],\n",
    "    [[1, -1], [1]],\n",
    "    [[1, 1], [-1]]\n",
    "]\n",
    "\n",
    "network = Network(structure=(\n",
    "    [2, 2, 1]), activation='tanh', seed=17, args={'b': 0.8})\n",
    "errors = network.train(dataset, learning_rate=0.1,\n",
    "                       target_error=0.01, momentum=0.9)\n",
    "print(\"Epochs: \", len(errors))\n",
    "print(\"Error: {:.2e}\".format(network.error(dataset)))\n",
    "plot(network)\n"
   ]
  },
  {
   "cell_type": "code",
   "execution_count": null,
   "metadata": {},
   "outputs": [],
   "source": [
    "plt.figure(\"Error vs epoch\")\n",
    "rates = [0.01, 0.05, 0.1]\n",
    "for rate in rates:\n",
    "    network = Network(structure=([2, 2, 1]),\n",
    "                      activation='tanh', seed=17, args={'b': 1})\n",
    "    errors = network.train(dataset, learning_rate=rate,\n",
    "                           epochs=1000, momentum=0.9)\n",
    "    plt.plot(errors, label=\"Learning rate: {}\".format(rate))\n",
    "plt.legend()\n",
    "plt.yscale('log')\n",
    "plt.xscale('log')\n",
    "plt.show()\n"
   ]
  },
  {
   "cell_type": "code",
   "execution_count": null,
   "metadata": {},
   "outputs": [],
   "source": [
    "plt.figure(\"Error vs epoch - momentum\")\n",
    "momentums = [0, 0.3, 0.9]\n",
    "for m in momentums:\n",
    "    network = Network(structure=([2, 2, 1]),\n",
    "                      activation='tanh', seed=17, args={'b': 1})\n",
    "    errors = network.train(dataset, epochs=1000, momentum=m)\n",
    "    plt.plot(errors, label=\"Momentum: {}\".format(m))\n",
    "plt.legend()\n",
    "plt.yscale('log')\n",
    "plt.show()\n"
   ]
  },
  {
   "cell_type": "markdown",
   "metadata": {},
   "source": [
    "#### Animation"
   ]
  },
  {
   "cell_type": "code",
   "execution_count": null,
   "metadata": {},
   "outputs": [],
   "source": [
    "imgs = []\n",
    "\n",
    "size = 25\n",
    "lim = 1\n",
    "x = np.linspace(-lim, lim, size)\n",
    "y = np.linspace(-lim, lim, size)\n",
    "\n",
    "sample = [[i, j] for i in x for j in y]\n",
    "\n",
    "plt.figure(\"temperature map animation\")\n",
    "\n",
    "mesh = plt.pcolormesh(x, y, np.zeros((size, size)), vmin=-1,\n",
    "                      vmax=1, cmap=\"coolwarm\", shading=\"gouraud\")\n",
    "\n",
    "\n",
    "def callback(network):\n",
    "    img = np.zeros((size, size))\n",
    "    for i in range(size):\n",
    "        for j in range(size):\n",
    "            img[i][j] = network.feedforward([x[i], y[j]])[0]\n",
    "    imgs.append(img)\n",
    "\n",
    "\n",
    "def update(frame):\n",
    "    mesh.set_array(np.array(imgs[frame]).ravel())\n",
    "    return mesh\n",
    "\n",
    "\n",
    "network = Network(structure=(\n",
    "    [2, 2, 1]), activation='tanh', seed=17, args={'b': 1})\n",
    "network.train(dataset, learning_rate=0.1, epochs=40,\n",
    "              momentum=0.9, callback=callback)\n",
    "\n",
    "# callback(network)\n",
    "# update(len(imgs)-1)\n",
    "\n",
    "# plt.show()\n",
    "\n",
    "anim = animation.FuncAnimation(plt.gcf(), update, frames=len(imgs), interval=1)\n",
    "\n",
    "anim.save('ej3.a.mp4', fps=30)\n",
    "\n",
    "anim = None\n",
    "\n",
    "update(len(imgs)-1)\n",
    "\n",
    "plt.show()\n"
   ]
  },
  {
   "cell_type": "markdown",
   "metadata": {},
   "source": [
    "### 3.b"
   ]
  },
  {
   "cell_type": "code",
   "execution_count": null,
   "metadata": {},
   "outputs": [],
   "source": [
    "from datasets import number_images\n",
    "\n",
    "dataset = []\n",
    "\n",
    "for i, img in enumerate(number_images):\n",
    "    dataset.append((np.array(img).flatten(), [1-i % 2]))\n"
   ]
  },
  {
   "cell_type": "code",
   "execution_count": null,
   "metadata": {},
   "outputs": [],
   "source": [
    "network = Network(structure=([35, 20, 1]),\n",
    "                  activation='sigmoid', seed=17, args={'b': 1})\n",
    "errors = network.train(dataset, learning_rate=0.1, epochs=500, momentum=0.9)\n",
    "\n",
    "print(\"Epochs: \", len(errors))\n",
    "print(\"Error: {:.2e}\".format(errors[-1]))\n",
    "\n",
    "plt.figure(\"error - Par o impar\")\n",
    "plt.yscale('log')\n",
    "plt.plot(errors)\n",
    "plt.show()\n",
    "\n",
    "x = [i for i in range(10)]\n",
    "y = [network.feedforward(dataset[i][0])[0] for i in x]\n",
    "\n",
    "plt.figure(\"par o impar\")\n",
    "plt.scatter(x, y)\n",
    "plt.xticks(x)\n",
    "plt.show()\n"
   ]
  },
  {
   "cell_type": "markdown",
   "metadata": {},
   "source": [
    "### 3.c"
   ]
  },
  {
   "cell_type": "code",
   "execution_count": 2,
   "metadata": {},
   "outputs": [],
   "source": [
    "from datasets import number_images\n",
    "\n",
    "dataset = []\n",
    "\n",
    "X = np.array([i for i in range(11)]) - 0.5\n",
    "\n",
    "for i, img in enumerate(number_images):\n",
    "    dataset.append((np.array(img).flatten(), [\n",
    "                   1 if j == i else 0 for j in range(10)]))\n"
   ]
  },
  {
   "cell_type": "code",
   "execution_count": 3,
   "metadata": {},
   "outputs": [
    {
     "name": "stdout",
     "output_type": "stream",
     "text": [
      "Error:  0.07209973879023385\n",
      "Epochs:  100\n"
     ]
    },
    {
     "data": {
      "image/png": "[encoded data removed]",
      "text/plain": [
       "<Figure size 1440x720 with 1 Axes>"
      ]
     },
     "metadata": {
      "needs_background": "light"
     },
     "output_type": "display_data"
    },
    {
     "data": {
      "image/png": "[encoded data removed]",
      "text/plain": [
       "<Figure size 1440x720 with 1 Axes>"
      ]
     },
     "metadata": {
      "needs_background": "light"
     },
     "output_type": "display_data"
    }
   ],
   "source": [
    "network = Network(structure=([35, 30, 20, 10]),\n",
    "                  activation='sigmoid', seed=17, args={'b': 1})\n",
    "errors = network.train(dataset, learning_rate=1, epochs=100, momentum=0)\n",
    "print(\"Error: \", errors[-1])\n",
    "print(\"Epochs: \", len(errors))\n",
    "plt.figure(\"error - number recon\")\n",
    "plt.yscale('log')\n",
    "plt.plot(errors)\n",
    "plt.show()\n",
    "\n",
    "plt.figure(\"probability - number recon\")\n",
    "\n",
    "x = [i for i in range(10)]\n",
    "matrix = []\n",
    "for i in range(10):\n",
    "    matrix.append(network.feedforward(dataset[i][0]))\n",
    "    #plt.scatter(x,matrix[-1], label=i)\n",
    "plt.pcolormesh(X, X, np.array(matrix).reshape(10, 10),\n",
    "               cmap=\"coolwarm\", vmin=0, vmax=1)\n",
    "\n",
    "plt.show()\n"
   ]
  },
  {
   "cell_type": "markdown",
   "metadata": {},
   "source": [
    "### Noise"
   ]
  },
  {
   "cell_type": "code",
   "execution_count": 4,
   "metadata": {},
   "outputs": [
    {
     "data": {
      "image/png": "[encoded data removed]",
      "text/plain": [
       "<Figure size 1440x720 with 1 Axes>"
      ]
     },
     "metadata": {
      "needs_background": "light"
     },
     "output_type": "display_data"
    }
   ],
   "source": [
    "from utils import noise\n",
    "noise_data = [[noise(img, 0.2, seed=17), output] for img, output in dataset]\n",
    "\n",
    "plt.figure(\"probability - noise - number recon\")\n",
    "\n",
    "x = [i for i in range(10)]\n",
    "matrix = []\n",
    "for i in range(10):\n",
    "    # lt.scatter(xxomatrix[-1], label=i\n",
    "    matrix.append(network.feedforward(noise_data[i][0]))\n",
    "\n",
    "plt.pcolormesh(X, X, np.array(matrix).reshape(10, 10),\n",
    "               cmap=\"coolwarm\", vmin=0, vmax=1)\n",
    "\n",
    "plt.xticks(x)\n",
    "plt.yticks(x)\n",
    "plt.show()\n"
   ]
  },
  {
   "cell_type": "code",
   "execution_count": 7,
   "metadata": {},
   "outputs": [
    {
     "name": "stdout",
     "output_type": "stream",
     "text": [
      "11\n",
      "Accuracy:  0.67\n"
     ]
    },
    {
     "data": {
      "image/png": "[encoded data removed]",
      "text/plain": [
       "<Figure size 360x360 with 1 Axes>"
      ]
     },
     "metadata": {
      "needs_background": "light"
     },
     "output_type": "display_data"
    }
   ],
   "source": [
    "seeds = [i for i in range(10)]\n",
    "\n",
    "noise_data = []\n",
    "\n",
    "for i in seeds:\n",
    "    noise_data += [[noise(img, 0.2, seed=i), output]\n",
    "                   for img, output in dataset]\n",
    "\n",
    "classes = [output for img, output in dataset]\n",
    "expected = [output for img, output in noise_data]\n",
    "output = [network.feedforward(img) for img, output in noise_data]\n",
    "\n",
    "mat, accuracy = metrics.confusion_matrix(classes, output, expected)\n",
    "\n",
    "mat = mat.astype(int)\n",
    "\n",
    "colours = []\n",
    "\n",
    "for i in range(len(mat)-1):\n",
    "    row = []\n",
    "    for j in range(len(mat)-1):\n",
    "        if i == j:\n",
    "            row.append('#FFAAAA')\n",
    "        else:\n",
    "            row.append('#FFFFFF')\n",
    "    row.append('#AAFFAA')\n",
    "    colours.append(row)\n",
    "\n",
    "row = []\n",
    "for i in range(len(mat)):\n",
    "    row.append('#AAFFAA')\n",
    "colours.append(row)\n",
    "\n",
    "print(len(colours[0]))\n",
    "\n",
    "labels = [f\" {i} \" for i in range(10)]\n",
    "print(\"Accuracy: \", accuracy)\n",
    "plt.figure(\"table\", figsize=(5, 5))\n",
    "plt.axis(\"off\")\n",
    "t = plt.table(cellText=mat,\n",
    "          loc='center',\n",
    "          cellLoc='center',\n",
    "          rowLabels=labels + [\" P\"],\n",
    "          colLabels=labels + [\"R\"],\n",
    "          rowColours=['#FFFF00'] * 10 + ['#AAAAFF'],\n",
    "          colColours=['#FFFF00'] * 10 + ['#AAAAFF'],\n",
    "          cellColours=colours,\n",
    "          )\n",
    "\n",
    "t.set_fontsize(20)\n",
    "t.scale(1,2)\n",
    "\n",
    "\n",
    "plt.gcf().tight_layout()\n",
    "plt.show()\n"
   ]
  }
 ],
 "metadata": {
  "colab": {
   "collapsed_sections": [],
   "name": "TP3.ipynb",
   "provenance": []
  },
  "interpreter": {
   "hash": "916dbcbb3f70747c44a77c7bcd40155683ae19c65e1c03b4aa3499c5328201f1"
  },
  "kernelspec": {
   "display_name": "Python 3 (ipykernel)",
   "language": "python",
   "name": "python3"
  },
  "language_info": {
   "codemirror_mode": {
    "name": "ipython",
    "version": 3
   },
   "file_extension": ".py",
   "mimetype": "text/x-python",
   "name": "python",
   "nbconvert_exporter": "python",
   "pygments_lexer": "ipython3",
   "version": "3.8.10"
  }
 },
 "nbformat": 4,
 "nbformat_minor": 1
}
