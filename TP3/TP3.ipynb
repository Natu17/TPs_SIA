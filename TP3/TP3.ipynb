{
 "cells": [
  {
   "cell_type": "code",
   "execution_count": null,
   "metadata": {
    "id": "5hKrwvXlgrcu"
   },
   "outputs": [],
   "source": [
    "import numpy as np\n",
    "from network import Network\n",
    "import matplotlib.pyplot as plt\n",
    "import matplotlib.animation as animation\n",
    "from mpl_toolkits import mplot3d\n",
    "import metrics\n",
    "\n",
    "plt.rcParams.update({'font.size': 20})\n",
    "plt.rc('figure', figsize=(20, 10))\n",
    "plt.rc('figure', facecolor=(1,1,1,1))\n"
   ]
  },
  {
   "cell_type": "markdown",
   "metadata": {
    "id": "fWTMRYNygnHW"
   },
   "source": [
    "## Ejercicio 1"
   ]
  },
  {
   "cell_type": "code",
   "execution_count": null,
   "metadata": {
    "id": "eKSvjSsQhXa0"
   },
   "outputs": [],
   "source": [
    "def plot(dataset, network):\n",
    "    X = [x[0][0] for x in dataset]\n",
    "    Y = [x[0][1] for x in dataset]\n",
    "    c = [x[1][0] for x in dataset]\n",
    "\n",
    "    plt.scatter(X, Y, c=c,  cmap=\"coolwarm\",s=100)\n",
    "\n",
    "    m, a, b = network.w[-1][0]  # mx + ay + b = 0\n",
    "\n",
    "    x = np.linspace(-2, 2, 100)\n",
    "    y = (-m*x - b)/a\n",
    "    plt.plot(x, y)\n",
    "    plt.xlim(-2, 2)\n",
    "    plt.ylim(-2, 2)\n",
    "    plt.xticks([-1, 1])\n",
    "    plt.yticks([-1, 1])\n",
    "    plt.xlabel('E1')\n",
    "    plt.ylabel('E2')\n",
    "    plt.show()\n"
   ]
  },
  {
   "cell_type": "markdown",
   "metadata": {
    "id": "gvHmG3dihV-t"
   },
   "source": [
    "### 1.a"
   ]
  },
  {
   "cell_type": "code",
   "execution_count": null,
   "metadata": {
    "colab": {
     "base_uri": "https://localhost:8080/",
     "height": 269
    },
    "id": "3Dd_PNzEeXJj",
    "outputId": "bed4daea-c25b-4584-d42f-efd2e8a4baf0"
   },
   "outputs": [],
   "source": [
    "dataset = [\n",
    "    [[-1, -1], [-1]],\n",
    "    [[-1, 1], [-1]],\n",
    "    [[1, -1], [-1]],\n",
    "    [[1, 1], [1]]\n",
    "]\n",
    "\n",
    "network = Network(structure=([2, 1]), activation='step', seed=17)\n",
    "errors = network.train(dataset, target_error=0)\n",
    "print(\"Epochs:\", len(errors))\n",
    "plt.figure(\"AND\")\n",
    "plot(dataset, network)\n",
    "\n"
   ]
  },
  {
   "cell_type": "markdown",
   "metadata": {},
   "source": [
    "#### animation"
   ]
  },
  {
   "cell_type": "code",
   "execution_count": null,
   "metadata": {},
   "outputs": [],
   "source": [
    "plt.figure(\"AND animation\")\n",
    "data = []\n",
    "x = np.linspace(-2, 2, 100)\n",
    "line, = plt.plot(x, x)\n",
    "X = [x[0][0] for x in dataset]\n",
    "Y = [x[0][1] for x in dataset]\n",
    "c = [x[1][0] for x in dataset]\n",
    "plt.xticks([-1, 1])\n",
    "plt.yticks([-1, 1])\n",
    "plt.xlabel('E1')\n",
    "plt.ylabel('E2')\n",
    "plt.scatter(X, Y, c=c, cmap=\"coolwarm\", s=100)\n",
    "\n",
    "\n",
    "def callback(network):\n",
    "    m, a, b = network.w[-1][0]  # mx + ay + b = 0\n",
    "    data.append((m, a, b))\n",
    "\n",
    "\n",
    "def update(frame):\n",
    "    m, a, b = data[frame]\n",
    "    y = (-m*x - b)/a\n",
    "    line.set_ydata(y)\n",
    "    return line\n",
    "\n",
    "\n",
    "network = Network(structure=([2, 1]), activation='tanh', seed=17)\n",
    "\n",
    "network.train(dataset, epochs=100, callback=callback, learning_rate=0.01)\n",
    "anim = animation.FuncAnimation(\n",
    "    plt.gcf(), update, frames=len(data)-1, interval=1)\n",
    "\n",
    "anim.save('ej1.a.mp4', fps=60)\n",
    "\n",
    "anim = []\n",
    "\n",
    "update(len(data)-1)\n",
    "\n",
    "plt.show()\n"
   ]
  },
  {
   "cell_type": "markdown",
   "metadata": {
    "id": "ALcsj8ALiECL"
   },
   "source": [
    "### 1.b"
   ]
  },
  {
   "cell_type": "code",
   "execution_count": null,
   "metadata": {
    "colab": {
     "base_uri": "https://localhost:8080/",
     "height": 269
    },
    "id": "UfcL70jwiFj2",
    "outputId": "cf6f5abf-ed71-4817-ce71-8f7b1f075567"
   },
   "outputs": [],
   "source": [
    "dataset = [\n",
    "    [[-1, -1], [-1]],\n",
    "    [[-1, 1], [1]],\n",
    "    [[1, -1], [1]],\n",
    "    [[1, 1], [-1]]\n",
    "]\n",
    "\n",
    "\n",
    "network = Network(structure=([2, 1]), activation='step', seed=17)\n",
    "network.train(dataset, epochs=1000)\n",
    "\n",
    "plot(dataset, network)\n"
   ]
  },
  {
   "cell_type": "markdown",
   "metadata": {},
   "source": [
    "## Ejercicio 2"
   ]
  },
  {
   "cell_type": "code",
   "execution_count": null,
   "metadata": {},
   "outputs": [],
   "source": [
    "from datasets import training_dataset_2\n",
    "\n",
    "expected = [y[0] for x, y in training_dataset_2]\n",
    "\n",
    "max_value = max(expected)\n",
    "min_value = min(expected)\n",
    "\n",
    "delta = (max_value - min_value)/2\n",
    "\n",
    "normalized = []\n",
    "\n",
    "for (x, y), v in zip(training_dataset_2, expected):\n",
    "    e = (v - min_value)/delta - 1\n",
    "    normalized.append((x, [e]))\n",
    "\n",
    "\n",
    "def plot3d(X,Y,Z, c, min = min_value, max = max_value, map=\"winter\"):\n",
    "    ax = plt.axes(projection='3d')\n",
    "    s = ax.scatter3D(X, Y, Z, c=c, cmap=map, s=200, vmin=min, vmax=max)\n",
    "    ax.set_xlabel('X', labelpad=20)\n",
    "    ax.set_ylabel('Y', labelpad=20)\n",
    "    ax.set_zlabel('Z', labelpad=20)\n",
    "    plt.colorbar(s)\n",
    "\n",
    "\n",
    "plt.figure(\"Dataset 2\")\n",
    "\n",
    "X = [x[0][0] for x in training_dataset_2]\n",
    "Y = [x[0][1] for x in training_dataset_2]\n",
    "Z = [x[0][2] for x in training_dataset_2]\n",
    "C = [x[1][0] for x in training_dataset_2]\n",
    "\n",
    "plot3d(X,Y,Z, C)\n",
    "\n",
    "plt.show()\n"
   ]
  },
  {
   "cell_type": "markdown",
   "metadata": {},
   "source": [
    "### Lineal"
   ]
  },
  {
   "cell_type": "code",
   "execution_count": null,
   "metadata": {},
   "outputs": [],
   "source": [
    "network = Network(structure=[3, 1],\n",
    "                  activation='lineal', seed=17, args={'b': 0.8})\n",
    "errors = network.train(training_dataset_2, batch_size=1,\n",
    "                       epochs=100, learning_rate=0.001, momentum=0.4)\n",
    "\n",
    "print(\"Error:\", errors[-1]/len(training_dataset_2))\n",
    "print(\"Epochs:\", len(errors))\n",
    "\n",
    "plt.figure(\"Lineal network\")\n",
    "\n",
    "c = np.array([network.feedforward(x)[0] for x, y in training_dataset_2])\n",
    "\n",
    "plot3d(X, Y, Z, c)\n",
    "\n",
    "plt.show()\n",
    "\n",
    "plt.figure(\"Lineal error heatmap\")\n",
    "err = (c-C)**2\n",
    "max_error = max(err)\n",
    "plot3d(X, Y, Z, err, min=0, max=max_error, map=\"Reds\")\n",
    "\n",
    "\n",
    "plt.figure(\"Lineal error\")\n",
    "plt.yscale('log')\n",
    "plt.xlabel(\"Epochs\")\n",
    "plt.ylabel(\"Error\")\n",
    "plt.plot(errors)\n",
    "plt.show()\n"
   ]
  },
  {
   "cell_type": "markdown",
   "metadata": {},
   "source": [
    "### No lineal"
   ]
  },
  {
   "cell_type": "code",
   "execution_count": null,
   "metadata": {},
   "outputs": [],
   "source": [
    "network = Network(structure=([3, 1]), activation='tanh', seed=17)\n",
    "errors = network.train(normalized, epochs=100, learning_rate=0.01, momentum=0)\n",
    "errors = np.array(errors)*delta**2\n",
    "print(\"Error:\", errors[-1])\n",
    "print(\"Epochs:\", len(errors))\n",
    "\n",
    "plt.figure(\"no lineal network\")\n",
    "\n",
    "c = np.array([network.feedforward(x)[0] for x, y in training_dataset_2])\n",
    "\n",
    "c = (c+1)*delta + min_value\n",
    "\n",
    "plot3d(X,Y,Z, c)\n",
    "\n",
    "plt.show()\n",
    "\n",
    "plt.figure(\"no Lineal error heatmap\")\n",
    "\n",
    "\n",
    "\n",
    "err = (c-C)**2\n",
    "plot3d(X, Y, Z, err, min=0, max=max_error, map=\"Reds\")\n",
    "\n",
    "\n",
    "plt.figure(\"Non-lineal error\")\n",
    "plt.yscale('log')\n",
    "plt.plot(errors)\n",
    "plt.xlabel(\"Epochs\")\n",
    "plt.ylabel(\"Error\")\n",
    "plt.show()\n"
   ]
  },
  {
   "cell_type": "markdown",
   "metadata": {},
   "source": [
    "### Comparison"
   ]
  },
  {
   "cell_type": "code",
   "execution_count": null,
   "metadata": {},
   "outputs": [],
   "source": [
    "X = np.arange(-1,1, 0.1)\n",
    "Y = np.arange(-1,1, 0.1)\n",
    "Z = np.arange(-1,1, 0.1)\n",
    "\n",
    "rng =np.random.default_rng(17)\n",
    "\n",
    "randoms = rng.normal(0,0.3, Z.shape)\n",
    "\n",
    "Z += randoms\n",
    "\n",
    "dataset = [ ([x,y],[z]) for x,y,z in zip(X,Y,Z) ]\n",
    "\n",
    "activations = ['lineal', 'tanh']\n",
    "\n",
    "\n",
    "for activation in activations:\n",
    "    network = Network(structure=[2,1], activation=activation, seed=3)\n",
    "    errors = network.train(dataset, epochs=100)\n",
    "    print(\"Error:\", errors[-1])\n",
    "\n",
    "    plt.figure(\"transformation {}\".format(activation))\n",
    "    ax = plt.axes(projection='3d')\n",
    "\n",
    "\n",
    "    ax.scatter3D(X, Y, Z, c=\"red\", s=100)\n",
    "\n",
    "    XP,YP = np.meshgrid(X,Y)\n",
    "\n",
    "    O = np.zeros((len(X), len(Y)))\n",
    "\n",
    "    for i,(r1,r2) in enumerate(zip(XP,YP)):\n",
    "        for j,(x,y) in enumerate(zip(r1,r2)):\n",
    "            z = network.feedforward([x,y])[0]\n",
    "            O[i][j] = z\n",
    "\n",
    "\n",
    "\n",
    "\n",
    "    ax.plot_surface(XP, YP, O, alpha=0.5)\n",
    "    ax.set_xlabel('X', labelpad=20)\n",
    "    ax.set_ylabel('Y', labelpad=20)\n",
    "    ax.set_zlabel('Z', labelpad=20)\n",
    "    plt.show()"
   ]
  },
  {
   "cell_type": "markdown",
   "metadata": {},
   "source": [
    "### Metrics"
   ]
  },
  {
   "cell_type": "code",
   "execution_count": null,
   "metadata": {},
   "outputs": [],
   "source": [
    "expected = [y[0] for x, y in training_dataset_2]\n",
    "network = Network(structure=([3, 1]),\n",
    "                  activation='lineal', seed=17, args={'b': 0.1})    \n",
    "         \n",
    "p = metrics.cross_validation(training_dataset_2, network, k=5,  epochs=100, metric = lambda n,d: metrics.accuracy(n,d,10))\n",
    "print(p[0].w)\n",
    "print(p[1])"
   ]
  },
  {
   "cell_type": "code",
   "execution_count": null,
   "metadata": {},
   "outputs": [],
   "source": [
    "expected = [y[0] for x, y in training_dataset_2]\n",
    "\n",
    "max_value = max(expected)\n",
    "min_value = min(expected)\n",
    "\n",
    "delta = (max_value - min_value)/2\n",
    "\n",
    "normalized = []\n",
    "\n",
    "for (x, y), v in zip(training_dataset_2, expected):\n",
    "    e = (v - min_value)/delta - 1\n",
    "    normalized.append((x, [e]))\n",
    "\n",
    "network = Network(structure=([3, 1]), activation='tanh', seed=17)\n",
    "p = metrics.cross_validation(normalized, network, k=5,  epochs=20, metric = lambda n,d: metrics.accuracy(n,d, 1e-5))\n",
    "print(p[0].w)\n",
    "print(p[1])"
   ]
  },
  {
   "cell_type": "markdown",
   "metadata": {
    "id": "d1Fq3Eh4jUFe"
   },
   "source": [
    "## Ejercicio 3"
   ]
  },
  {
   "cell_type": "markdown",
   "metadata": {
    "id": "N4rXq0DgjVnd"
   },
   "source": [
    "### 3.a"
   ]
  },
  {
   "cell_type": "code",
   "execution_count": null,
   "metadata": {
    "id": "bg0YL8X3j-tS"
   },
   "outputs": [],
   "source": [
    "lim = 1\n",
    "size = 100\n",
    "x = np.linspace(-lim, lim, size)\n",
    "y = np.linspace(-lim, lim, size)\n",
    "sample = [[i, j] for i in x for j in y]\n",
    "\n",
    "\n",
    "def plot(network):\n",
    "    img = np.zeros((size, size))\n",
    "    for i in range(size):\n",
    "        for j in range(size):\n",
    "            img[i][j] = network.feedforward([x[i], y[j]])[0]\n",
    "    plt.xlabel(\"E1\")\n",
    "    plt.ylabel(\"E2\")\n",
    "    plt.pcolormesh(x, y, img, vmin=-1, vmax=1,\n",
    "                   shading=\"gouraud\", cmap=\"coolwarm\")\n",
    "    plt.colorbar()\n"
   ]
  },
  {
   "cell_type": "code",
   "execution_count": null,
   "metadata": {
    "colab": {
     "base_uri": "https://localhost:8080/",
     "height": 265
    },
    "id": "KF-IsKo9jYc2",
    "outputId": "a580a280-4931-4d3a-a2b4-e97746be3fd2"
   },
   "outputs": [],
   "source": [
    "dataset = [\n",
    "    [[-1, -1], [-1]],\n",
    "    [[-1, 1], [1]],\n",
    "    [[1, -1], [1]],\n",
    "    [[1, 1], [-1]]\n",
    "]\n",
    "\n",
    "network = Network(structure=(\n",
    "    [2, 2, 1]), activation='tanh', seed=17, args={'b': 0.8})\n",
    "errors = network.train(dataset, learning_rate=0.1,\n",
    "                       target_error=0.01, momentum=0.9)\n",
    "print(\"Epochs: \", len(errors))\n",
    "print(\"Error: {:.2e}\".format(network.error(dataset)))\n",
    "plot(network)\n",
    "plt.show()"
   ]
  },
  {
   "cell_type": "code",
   "execution_count": null,
   "metadata": {},
   "outputs": [],
   "source": [
    "plt.figure(\"Error vs epoch\")\n",
    "rates = [0.01, 0.05, 0.1, 0.2,]\n",
    "for rate in rates:\n",
    "    network = Network(structure=([2, 2, 1]),\n",
    "                      activation='tanh', seed=17, args={'b': 1})\n",
    "    errors = network.train(dataset, learning_rate=rate,\n",
    "                           epochs=1000, momentum=0)\n",
    "    plt.plot(errors, label=\"Learning rate: {}\".format(rate))\n",
    "plt.legend()\n",
    "plt.yscale('log')\n",
    "plt.xlabel(\"Epochs\")\n",
    "plt.ylabel(\"Error\")\n",
    "plt.show()\n"
   ]
  },
  {
   "cell_type": "code",
   "execution_count": null,
   "metadata": {},
   "outputs": [],
   "source": [
    "plt.figure(\"Error vs epoch - momentum\")\n",
    "momentums = [0, 0.3, 0.7, 0.9]\n",
    "for m in momentums:\n",
    "    network = Network(structure=([2, 2, 1]),\n",
    "                      activation='tanh', seed=17, args={'b': 1})\n",
    "    errors = network.train(dataset, epochs=1000, momentum=m)\n",
    "    plt.plot(errors, label=\"Momentum: {}\".format(m))\n",
    "plt.legend()\n",
    "plt.yscale('log')\n",
    "plt.xlabel(\"Epochs\")\n",
    "plt.ylabel(\"Error\")\n",
    "plt.show()\n"
   ]
  },
  {
   "cell_type": "code",
   "execution_count": null,
   "metadata": {},
   "outputs": [],
   "source": [
    "plt.figure(\"Error vs epoch - batch\")\n",
    "batch = [1,2,4]\n",
    "for b in batch:\n",
    "    network = Network(structure=([2, 2, 1]),\n",
    "                      activation='tanh', seed=17, args={'b': 1})\n",
    "    errors = network.train(dataset, epochs=1000, momentum=0, learning_rate=0.1, batch_size=b)\n",
    "    plt.plot(errors, label=\"batch size: {}\".format(b))\n",
    "plt.legend()\n",
    "plt.yscale('log')\n",
    "plt.xlabel(\"Epochs\")\n",
    "plt.ylabel(\"Error\")\n",
    "plt.show()\n"
   ]
  },
  {
   "cell_type": "code",
   "execution_count": null,
   "metadata": {},
   "outputs": [],
   "source": [
    "plt.figure(\"Error vs epoch - b\")\n",
    "bs = [0.5,0.8,1,2,3,4,5,6,7,8]\n",
    "for b in bs:\n",
    "    network = Network(structure=([2, 2, 1]),\n",
    "                      activation='tanh', seed=17, args={'b': b})\n",
    "    errors = network.train(dataset, epochs=1000, momentum=0, learning_rate=0.001, batch_size=1)\n",
    "    plt.plot(errors, label=\"b: {}\".format(b))\n",
    "plt.legend()\n",
    "plt.yscale('log')\n",
    "plt.xlabel(\"Epochs\")\n",
    "plt.ylabel(\"Error\")\n",
    "plt.show()\n"
   ]
  },
  {
   "cell_type": "markdown",
   "metadata": {},
   "source": [
    "### Limit cases"
   ]
  },
  {
   "cell_type": "code",
   "execution_count": null,
   "metadata": {},
   "outputs": [],
   "source": [
    "plt.figure(\"Error vs epoch - limits\")\n",
    "combinations = [ # lr bs m b label\n",
    "    [0.9, 1, 0, 1, \"learning rate: 0.9\"],\n",
    "    [0.1, 1, 1, 1, \"momentum: 1\"],\n",
    "    [0.1, 1, 0, 4, \"b: 4\"]\n",
    "]\n",
    "for c in combinations:\n",
    "    network = Network(structure=([2, 2, 1]),\n",
    "                      activation='tanh', seed=17, args={'b': c[3]})\n",
    "    errors = network.train(dataset, epochs=1000, momentum=c[2], learning_rate=c[0], batch_size=c[1])\n",
    "    plt.plot(errors, label=c[4])\n",
    "plt.legend()\n",
    "plt.yscale('log')\n",
    "plt.xlabel(\"Epochs\")\n",
    "plt.ylabel(\"Error\")\n",
    "plt.show()\n"
   ]
  },
  {
   "cell_type": "markdown",
   "metadata": {},
   "source": [
    "#### Animation"
   ]
  },
  {
   "cell_type": "code",
   "execution_count": null,
   "metadata": {},
   "outputs": [],
   "source": [
    "imgs = []\n",
    "\n",
    "size = 25\n",
    "lim = 1\n",
    "x = np.linspace(-lim, lim, size)\n",
    "y = np.linspace(-lim, lim, size)\n",
    "\n",
    "sample = [[i, j] for i in x for j in y]\n",
    "\n",
    "plt.figure(\"temperature map animation\")\n",
    "\n",
    "mesh = plt.pcolormesh(x, y, np.zeros((size, size)), vmin=-1,\n",
    "                      vmax=1, cmap=\"coolwarm\", shading=\"gouraud\")\n",
    "\n",
    "plt.colorbar()\n",
    "\n",
    "def callback(network):\n",
    "    img = np.zeros((size, size))\n",
    "    for i in range(size):\n",
    "        for j in range(size):\n",
    "            img[i][j] = network.feedforward([x[i], y[j]])[0]\n",
    "    imgs.append(img)\n",
    "\n",
    "\n",
    "def update(frame):\n",
    "    mesh.set_array(np.array(imgs[frame]).ravel())\n",
    "    return mesh\n",
    "\n",
    "\n",
    "network = Network(structure=(\n",
    "    [2, 2, 1]), activation='tanh', seed=17, args={'b': 1})\n",
    "network.train(dataset, learning_rate=0.1, epochs=40,\n",
    "              momentum=0.9, callback=callback)\n",
    "\n",
    "# callback(network)\n",
    "# update(len(imgs)-1)\n",
    "\n",
    "# plt.show()\n",
    "\n",
    "anim = animation.FuncAnimation(plt.gcf(), update, frames=len(imgs), interval=1)\n",
    "\n",
    "anim.save('ej3.a.mp4', fps=30)\n",
    "\n",
    "anim = None\n",
    "\n",
    "update(len(imgs)-1)\n",
    "\n",
    "plt.show()\n"
   ]
  },
  {
   "cell_type": "markdown",
   "metadata": {},
   "source": [
    "### More heatmaps"
   ]
  },
  {
   "cell_type": "code",
   "execution_count": null,
   "metadata": {},
   "outputs": [],
   "source": [
    "lim = 2\n",
    "size=200\n",
    "x = np.linspace(-lim, lim, size)\n",
    "y = np.linspace(-lim, lim, size)\n",
    "sample = [[i, j] for i in x for j in y]\n",
    "\n",
    "structures = [\n",
    "    [2, 3, 1],\n",
    "    [2, 15,10, 1],\n",
    "    [2,10,15,1]\n",
    "]\n",
    "\n",
    "\n",
    "for s in structures:\n",
    "    plt.figure(\"heatmap with {} neurons\".format(s), figsize=(10, 5))\n",
    "    network = Network(structure=s, activation='tanh', seed=17, args={'b': 0.8})\n",
    "    errors = network.train(dataset, learning_rate=0.1,\n",
    "                           target_error=0.01, momentum=0.9)\n",
    "    print(\"Epochs: \", len(errors))\n",
    "    print(\"Error: {:.2e}\".format(network.error(dataset)))\n",
    "    print(\"Structure: \", s)\n",
    "    plot(network)\n",
    "    plt.scatter([x[0] for x,y in dataset], [x[1] for x,y in dataset], c=\"black\")\n",
    "    plt.show()\n"
   ]
  },
  {
   "cell_type": "markdown",
   "metadata": {},
   "source": [
    "### 3.b"
   ]
  },
  {
   "cell_type": "code",
   "execution_count": null,
   "metadata": {},
   "outputs": [],
   "source": [
    "from datasets import number_images\n",
    "\n",
    "dataset = []\n",
    "\n",
    "for i, img in enumerate(number_images):\n",
    "    dataset.append((np.array(img).flatten(), [1-i % 2]))\n"
   ]
  },
  {
   "cell_type": "code",
   "execution_count": null,
   "metadata": {},
   "outputs": [],
   "source": [
    "network = Network(structure=([35, 20, 1]),\n",
    "                  activation='sigmoid', seed=17, args={'b': 1})\n",
    "errors = network.train(dataset, learning_rate=0.1, epochs=500, momentum=0.9)\n",
    "\n",
    "print(\"Epochs: \", len(errors))\n",
    "print(\"Error: {:.2e}\".format(errors[-1]))\n",
    "\n",
    "plt.figure(\"error - Par o impar\")\n",
    "plt.yscale('log')\n",
    "plt.xlabel(\"Epochs\")\n",
    "plt.ylabel(\"Error\")\n",
    "plt.plot(errors)\n",
    "plt.show()\n",
    "\n",
    "x = [i for i in range(10)]\n",
    "y = [network.feedforward(dataset[i][0])[0] for i in x]\n",
    "\n",
    "plt.figure(\"par o impar\")\n",
    "plt.scatter(x, y)\n",
    "plt.xticks(x)\n",
    "plt.ylabel(\"Impar - Par\")\n",
    "plt.xlabel(\"Numero\")\n",
    "plt.show()\n"
   ]
  },
  {
   "cell_type": "markdown",
   "metadata": {},
   "source": [
    "### 3.c"
   ]
  },
  {
   "cell_type": "code",
   "execution_count": null,
   "metadata": {},
   "outputs": [],
   "source": [
    "from datasets import number_images\n",
    "\n",
    "dataset = []\n",
    "\n",
    "X = np.array([i for i in range(11)]) - 0.5\n",
    "\n",
    "for i, img in enumerate(number_images):\n",
    "    dataset.append((np.array(img).flatten(), [\n",
    "                   1 if j == i else 0 for j in range(10)]))\n"
   ]
  },
  {
   "cell_type": "code",
   "execution_count": null,
   "metadata": {},
   "outputs": [],
   "source": [
    "network = Network(structure=([35, 30, 20, 10]),\n",
    "                  activation='sigmoid', seed=17, args={'b': 1})\n",
    "errors = network.train(dataset, learning_rate=1, epochs=50, momentum=0)\n",
    "print(\"Error: \", errors[-1])\n",
    "print(\"Epochs: \", len(errors))\n",
    "plt.figure(\"error - number recon\")\n",
    "plt.yscale('log')\n",
    "plt.xlabel(\"Epochs\")\n",
    "plt.ylabel(\"Error\")\n",
    "plt.plot(errors)\n",
    "plt.show()\n",
    "\n",
    "plt.figure(\"probability - number recon\")\n",
    "\n",
    "x = [i for i in range(10)]\n",
    "matrix = []\n",
    "for i in range(10):\n",
    "    matrix.append(network.feedforward(dataset[i][0]))\n",
    "    #plt.scatter(x,matrix[-1], label=i)\n",
    "plt.pcolormesh(X, X, np.array(matrix).reshape(10, 10),\n",
    "               cmap=\"coolwarm\", vmin=0, vmax=1)\n",
    "\n",
    "plt.xlabel(\"Numero\")\n",
    "plt.ylabel(\"Probabilidad\")\n",
    "ticks = [i for i in range(10)]\n",
    "plt.xticks(ticks)\n",
    "plt.yticks(ticks)\n",
    "plt.show()\n"
   ]
  },
  {
   "cell_type": "markdown",
   "metadata": {},
   "source": [
    "### Noise"
   ]
  },
  {
   "cell_type": "code",
   "execution_count": null,
   "metadata": {},
   "outputs": [],
   "source": [
    "from utils import noise\n",
    "noise_data = [[noise(img, 0.02, seed=17), output] for img, output in dataset]\n",
    "\n",
    "plt.figure(\"probability - noise - number recon\")\n",
    "\n",
    "x = [i for i in range(10)]\n",
    "matrix = []\n",
    "for i in range(10):\n",
    "    # lt.scatter(xxomatrix[-1], label=i\n",
    "    matrix.append(network.feedforward(noise_data[i][0]))\n",
    "print(network.error(noise_data))\n",
    "plt.pcolormesh(X, X, np.array(matrix).reshape(10, 10),\n",
    "               cmap=\"coolwarm\", vmin=0, vmax=1)\n",
    "\n",
    "plt.xticks(x)\n",
    "plt.yticks(x)\n",
    "plt.xlabel(\"Numero\")\n",
    "plt.ylabel(\"Probabilidad\")\n",
    "plt.show()\n"
   ]
  },
  {
   "cell_type": "code",
   "execution_count": null,
   "metadata": {},
   "outputs": [],
   "source": [
    "seeds = [i for i in range(1000)]\n",
    "\n",
    "noise_data = []\n",
    "\n",
    "for i in seeds:\n",
    "    noise_data += [[noise(img, 0.02, seed=i), output]\n",
    "                   for img, output in dataset]\n",
    "\n",
    "classes = [output for img, output in dataset]\n",
    "expected = [output for img, output in noise_data]\n",
    "output = [network.feedforward(img) for img, output in noise_data]\n",
    "\n",
    "mat, accuracy = metrics.confusion_matrix(classes, output, expected)\n",
    "\n",
    "mat = mat.astype(int)\n",
    "\n",
    "colours = []\n",
    "\n",
    "for i in range(len(mat)-1):\n",
    "    row = []\n",
    "    for j in range(len(mat)-1):\n",
    "        if i == j:\n",
    "            row.append('#FFAAAA')\n",
    "        else:\n",
    "            row.append('#FFFFFF')\n",
    "    row.append('#AAFFAA')\n",
    "    colours.append(row)\n",
    "\n",
    "row = []\n",
    "for i in range(len(mat)):\n",
    "    row.append('#AAFFAA')\n",
    "colours.append(row)\n",
    "\n",
    "\n",
    "labels = [f\" {i} \" for i in range(10)]\n",
    "print(\"Accuracy: \", accuracy)\n",
    "plt.figure(\"table\", figsize=(5, 5))\n",
    "plt.axis(\"off\")\n",
    "t = plt.table(cellText=mat,\n",
    "          loc='center',\n",
    "          cellLoc='center',\n",
    "          rowLabels=labels + [\" P\"],\n",
    "          colLabels=labels + [\"R\"],\n",
    "          rowColours=['#FFFF00'] * 10 + ['#AAAAFF'],\n",
    "          colColours=['#FFFF00'] * 10 + ['#AAAAFF'],\n",
    "          cellColours=colours,\n",
    "          )\n",
    "\n",
    "t.set_fontsize(20)\n",
    "t.scale(1,2)\n",
    "\n",
    "\n",
    "plt.gcf().tight_layout()\n",
    "plt.show()\n"
   ]
  }
 ],
 "metadata": {
  "colab": {
   "collapsed_sections": [],
   "name": "TP3.ipynb",
   "provenance": []
  },
  "interpreter": {
   "hash": "916dbcbb3f70747c44a77c7bcd40155683ae19c65e1c03b4aa3499c5328201f1"
  },
  "kernelspec": {
   "display_name": "Python 3 (ipykernel)",
   "language": "python",
   "name": "python3"
  },
  "language_info": {
   "codemirror_mode": {
    "name": "ipython",
    "version": 3
   },
   "file_extension": ".py",
   "mimetype": "text/x-python",
   "name": "python",
   "nbconvert_exporter": "python",
   "pygments_lexer": "ipython3",
   "version": "3.8.10"
  }
 },
 "nbformat": 4,
 "nbformat_minor": 1
}
