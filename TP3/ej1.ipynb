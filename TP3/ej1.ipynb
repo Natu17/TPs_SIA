{
 "cells": [
  {
   "cell_type": "code",
   "execution_count": null,
   "metadata": {
    "id": "5hKrwvXlgrcu"
   },
   "outputs": [],
   "source": [
    "import numpy as np\n",
    "from network import Network\n",
    "import matplotlib.pyplot as plt\n",
    "import matplotlib.animation as animation\n",
    "from mpl_toolkits import mplot3d\n",
    "import metrics\n",
    "\n",
    "plt.rcParams.update({'font.size': 20})\n",
    "plt.rc('figure', figsize=(20, 10))\n",
    "plt.rc('figure', facecolor=(1,1,1,1))\n"
   ]
  },
  {
   "cell_type": "markdown",
   "metadata": {
    "id": "fWTMRYNygnHW"
   },
   "source": [
    "## Ejercicio 1"
   ]
  },
  {
   "cell_type": "code",
   "execution_count": null,
   "metadata": {
    "id": "eKSvjSsQhXa0"
   },
   "outputs": [],
   "source": [
    "def plot(dataset, network):\n",
    "    X = [x[0][0] for x in dataset]\n",
    "    Y = [x[0][1] for x in dataset]\n",
    "    c = [x[1][0] for x in dataset]\n",
    "\n",
    "    plt.scatter(X, Y, c=c,  cmap=\"coolwarm\",s=100)\n",
    "\n",
    "    m, a, b = network.w[-1][0]  # mx + ay + b = 0\n",
    "\n",
    "    x = np.linspace(-2, 2, 100)\n",
    "    y = (-m*x - b)/a\n",
    "    plt.plot(x, y)\n",
    "    plt.xlim(-2, 2)\n",
    "    plt.ylim(-2, 2)\n",
    "    plt.xticks([-1, 1])\n",
    "    plt.yticks([-1, 1])\n",
    "    plt.xlabel('E1')\n",
    "    plt.ylabel('E2')\n",
    "    plt.show()\n"
   ]
  },
  {
   "cell_type": "markdown",
   "metadata": {
    "id": "gvHmG3dihV-t"
   },
   "source": [
    "### 1.a"
   ]
  },
  {
   "cell_type": "code",
   "execution_count": null,
   "metadata": {
    "colab": {
     "base_uri": "https://localhost:8080/",
     "height": 269
    },
    "id": "3Dd_PNzEeXJj",
    "outputId": "bed4daea-c25b-4584-d42f-efd2e8a4baf0"
   },
   "outputs": [],
   "source": [
    "dataset = [\n",
    "    [[-1, -1], [-1]],\n",
    "    [[-1, 1], [-1]],\n",
    "    [[1, -1], [-1]],\n",
    "    [[1, 1], [1]]\n",
    "]\n",
    "\n",
    "network = Network(structure=([2, 1]), activation='step', seed=17)\n",
    "errors = network.train(dataset, target_error=0)\n",
    "print(\"Epochs:\", len(errors))\n",
    "plt.figure(\"AND\")\n",
    "plot(dataset, network)\n",
    "\n"
   ]
  },
  {
   "cell_type": "markdown",
   "metadata": {},
   "source": [
    "#### animation"
   ]
  },
  {
   "cell_type": "code",
   "execution_count": null,
   "metadata": {},
   "outputs": [],
   "source": [
    "plt.figure(\"AND animation\")\n",
    "data = []\n",
    "x = np.linspace(-2, 2, 100)\n",
    "line, = plt.plot(x, x)\n",
    "X = [x[0][0] for x in dataset]\n",
    "Y = [x[0][1] for x in dataset]\n",
    "c = [x[1][0] for x in dataset]\n",
    "plt.xticks([-1, 1])\n",
    "plt.yticks([-1, 1])\n",
    "plt.xlabel('E1')\n",
    "plt.ylabel('E2')\n",
    "plt.scatter(X, Y, c=c, cmap=\"coolwarm\", s=100)\n",
    "\n",
    "\n",
    "def callback(network):\n",
    "    m, a, b = network.w[-1][0]  # mx + ay + b = 0\n",
    "    data.append((m, a, b))\n",
    "\n",
    "\n",
    "def update(frame):\n",
    "    m, a, b = data[frame]\n",
    "    y = (-m*x - b)/a\n",
    "    line.set_ydata(y)\n",
    "    return line\n",
    "\n",
    "\n",
    "network = Network(structure=([2, 1]), activation='tanh', seed=17)\n",
    "\n",
    "network.train(dataset, epochs=100, callback=callback, learning_rate=0.01)\n",
    "anim = animation.FuncAnimation(\n",
    "    plt.gcf(), update, frames=len(data)-1, interval=1)\n",
    "\n",
    "anim.save('ej1.a.mp4', fps=60)\n",
    "\n",
    "anim = []\n",
    "\n",
    "update(len(data)-1)\n",
    "\n",
    "plt.show()\n"
   ]
  },
  {
   "cell_type": "markdown",
   "metadata": {
    "id": "ALcsj8ALiECL"
   },
   "source": [
    "### 1.b"
   ]
  },
  {
   "cell_type": "code",
   "execution_count": null,
   "metadata": {
    "colab": {
     "base_uri": "https://localhost:8080/",
     "height": 269
    },
    "id": "UfcL70jwiFj2",
    "outputId": "cf6f5abf-ed71-4817-ce71-8f7b1f075567"
   },
   "outputs": [],
   "source": [
    "dataset = [\n",
    "    [[-1, -1], [-1]],\n",
    "    [[-1, 1], [1]],\n",
    "    [[1, -1], [1]],\n",
    "    [[1, 1], [-1]]\n",
    "]\n",
    "\n",
    "\n",
    "network = Network(structure=([2, 1]), activation='step', seed=17)\n",
    "network.train(dataset, epochs=1000)\n",
    "\n",
    "plot(dataset, network)\n"
   ]
  }
 ],
 "metadata": {
  "colab": {
   "collapsed_sections": [],
   "name": "TP3.ipynb",
   "provenance": []
  },
  "interpreter": {
   "hash": "916dbcbb3f70747c44a77c7bcd40155683ae19c65e1c03b4aa3499c5328201f1"
  },
  "kernelspec": {
   "display_name": "Python 3 (ipykernel)",
   "language": "python",
   "name": "python3"
  },
  "language_info": {
   "codemirror_mode": {
    "name": "ipython",
    "version": 3
   },
   "file_extension": ".py",
   "mimetype": "text/x-python",
   "name": "python",
   "nbconvert_exporter": "python",
   "pygments_lexer": "ipython3",
   "version": "3.8.10"
  }
 },
 "nbformat": 4,
 "nbformat_minor": 1
}
