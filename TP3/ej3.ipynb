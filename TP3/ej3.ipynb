{
 "cells": [
  {
   "cell_type": "code",
   "execution_count": null,
   "metadata": {
    "id": "5hKrwvXlgrcu"
   },
   "outputs": [],
   "source": [
    "import numpy as np\n",
    "from network import Network\n",
    "import matplotlib.pyplot as plt\n",
    "import matplotlib.animation as animation\n",
    "from mpl_toolkits import mplot3d\n",
    "import metrics\n",
    "import math\n",
    "\n",
    "plt.rcParams.update({'font.size': 20})\n",
    "plt.rc('figure', figsize=(20, 10))\n",
    "plt.rc('figure', facecolor=(1,1,1,1))\n"
   ]
  },
  {
   "cell_type": "markdown",
   "metadata": {
    "id": "d1Fq3Eh4jUFe"
   },
   "source": [
    "## Ejercicio 3"
   ]
  },
  {
   "cell_type": "markdown",
   "metadata": {
    "id": "N4rXq0DgjVnd"
   },
   "source": [
    "### 3.a"
   ]
  },
  {
   "cell_type": "code",
   "execution_count": null,
   "metadata": {
    "id": "bg0YL8X3j-tS"
   },
   "outputs": [],
   "source": [
    "lim = 1\n",
    "size = 100\n",
    "x = np.linspace(-lim, lim, size)\n",
    "y = np.linspace(-lim, lim, size)\n",
    "sample = [[i, j] for i in x for j in y]\n",
    "\n",
    "\n",
    "def plot(network):\n",
    "    img = np.zeros((size, size))\n",
    "    for i in range(size):\n",
    "        for j in range(size):\n",
    "            img[i][j] = network.feedforward([x[i], y[j]])[0]\n",
    "    plt.xlabel(\"E1\")\n",
    "    plt.ylabel(\"E2\")\n",
    "    plt.pcolormesh(x, y, img, vmin=-1, vmax=1,\n",
    "                   shading=\"gouraud\", cmap=\"coolwarm\")\n",
    "    plt.colorbar()\n"
   ]
  },
  {
   "cell_type": "code",
   "execution_count": null,
   "metadata": {
    "colab": {
     "base_uri": "https://localhost:8080/",
     "height": 265
    },
    "id": "KF-IsKo9jYc2",
    "outputId": "a580a280-4931-4d3a-a2b4-e97746be3fd2"
   },
   "outputs": [],
   "source": [
    "dataset = [\n",
    "    [[-1, -1], [-1]],\n",
    "    [[-1, 1], [1]],\n",
    "    [[1, -1], [1]],\n",
    "    [[1, 1], [-1]]\n",
    "]\n",
    "\n",
    "network = Network(structure=(\n",
    "    [2, 2, 1]), activation='tanh', seed=17, args={'b': 0.8})\n",
    "errors = network.train(dataset, learning_rate=0.1,\n",
    "                       target_error=0.01, momentum=0.9)\n",
    "print(\"Epochs: \", len(errors))\n",
    "print(\"Error: {:.2e}\".format(network.error(dataset)))\n",
    "plot(network)\n",
    "plt.show()"
   ]
  },
  {
   "cell_type": "markdown",
   "metadata": {},
   "source": [
    "#### Input variation"
   ]
  },
  {
   "cell_type": "markdown",
   "metadata": {},
   "source": [
    "##### Averages"
   ]
  },
  {
   "cell_type": "code",
   "execution_count": null,
   "metadata": {},
   "outputs": [],
   "source": [
    "def run(dataset,structure, epochs = math.inf, learning_rate = 0.1, target_error = 0, momentum=0, activation='tanh', seed=17, b=1):\n",
    "\n",
    "    network = Network(structure=structure, activation=activation, seed=seed, args = {\"b\":b})\n",
    "    errors = network.train(dataset, epochs=epochs, learning_rate=learning_rate,\n",
    "                           target_error=target_error, momentum=momentum)\n",
    "\n",
    "    return len(errors)\n",
    "\n",
    "seeds = [i+1 for i in range(5)]"
   ]
  },
  {
   "cell_type": "code",
   "execution_count": null,
   "metadata": {},
   "outputs": [],
   "source": [
    "\n",
    "momentums = [0,0.1,0.2,0.3,0.4,0.5,0.6,0.7,0.8,0.9]\n",
    "learning_rates = [0.1, 0.2, 0.3]\n",
    "\n",
    "\n",
    "plt.figure(\"avg epochs vs momentums\")\n",
    "\n",
    "for lr in learning_rates:\n",
    "    avg = []\n",
    "    errors = []\n",
    "\n",
    "    for m in momentums:\n",
    "        epochs = []\n",
    "        for s in seeds:\n",
    "            e = run(dataset, [2,2,1], learning_rate=lr,target_error=0.1, seed=s, momentum=m, epochs=100, b=1)\n",
    "            epochs.append(e)\n",
    "        avg.append(np.mean(epochs))\n",
    "        errors.append(np.std(epochs)/math.sqrt(len(epochs)))\n",
    "    plt.errorbar(momentums, avg, yerr=errors, fmt='o-', label=\"lr = {}\".format(lr))\n",
    "plt.legend()\n",
    "plt.xlabel(\"Momentum\")\n",
    "plt.ylabel(\"Epochs\")\n",
    "plt.xticks(momentums) \n",
    "plt.show()"
   ]
  },
  {
   "cell_type": "code",
   "execution_count": null,
   "metadata": {},
   "outputs": [],
   "source": [
    "\n",
    "bs = [0.3, 0.4, 0.5, 0.6, 0.7, 0.8, 0.9, 1]\n",
    "learning_rates = [0.1, 0.5, 1]\n",
    "\n",
    "\n",
    "plt.figure(\"avg epochs vs b\")\n",
    "\n",
    "for lr in learning_rates:\n",
    "    avg = []\n",
    "    errors = []\n",
    "\n",
    "    for b in bs:\n",
    "        epochs = []\n",
    "        for s in seeds:\n",
    "            e = run(dataset, [2,2,1], learning_rate=lr,target_error=0.1, seed=s, momentum=0, epochs=100, b=b)\n",
    "            epochs.append(e)\n",
    "        avg.append(np.mean(epochs))\n",
    "        errors.append(np.std(epochs)/math.sqrt(len(epochs)))\n",
    "    plt.errorbar(bs, avg, yerr=errors, fmt='o-', label=\"lr = {}\".format(lr))\n",
    "plt.legend()\n",
    "plt.xlabel(\"b\")\n",
    "plt.xticks(bs)\n",
    "plt.ylabel(\"Epochs\") \n",
    "plt.show()"
   ]
  },
  {
   "cell_type": "markdown",
   "metadata": {},
   "source": [
    "##### Single runs"
   ]
  },
  {
   "cell_type": "code",
   "execution_count": null,
   "metadata": {},
   "outputs": [],
   "source": [
    "plt.figure(\"Error vs epoch\")\n",
    "rates = [0.01, 0.05, 0.1, 0.2,]\n",
    "for rate in rates:\n",
    "    network = Network(structure=([2, 2, 1]),\n",
    "                      activation='tanh', seed=17, args={'b': 1})\n",
    "    errors = network.train(dataset, learning_rate=rate,\n",
    "                           epochs=1000, momentum=0)\n",
    "    plt.plot(errors, label=\"Learning rate: {}\".format(rate))\n",
    "plt.legend()\n",
    "plt.yscale('log')\n",
    "plt.xlabel(\"Epochs\")\n",
    "plt.ylabel(\"Error\")\n",
    "plt.show()\n"
   ]
  },
  {
   "cell_type": "code",
   "execution_count": null,
   "metadata": {},
   "outputs": [],
   "source": [
    "plt.figure(\"Error vs epoch - momentum\")\n",
    "momentums = [0, 0.3, 0.7, 0.9]\n",
    "for m in momentums:\n",
    "    network = Network(structure=([2, 2, 1]),\n",
    "                      activation='tanh', seed=17, args={'b': 1})\n",
    "    errors = network.train(dataset, epochs=1000, momentum=m)\n",
    "    plt.plot(errors, label=\"Momentum: {}\".format(m))\n",
    "plt.legend()\n",
    "plt.yscale('log')\n",
    "plt.xlabel(\"Epochs\")\n",
    "plt.ylabel(\"Error\")\n",
    "plt.show()\n"
   ]
  },
  {
   "cell_type": "code",
   "execution_count": null,
   "metadata": {},
   "outputs": [],
   "source": [
    "plt.figure(\"Error vs epoch - batch\")\n",
    "batch = [1,2,4]\n",
    "for b in batch:\n",
    "    network = Network(structure=([2, 2, 1]),\n",
    "                      activation='tanh', seed=17, args={'b': 1})\n",
    "    errors = network.train(dataset, epochs=1000, momentum=0, learning_rate=0.1, batch_size=b)\n",
    "    plt.plot(errors, label=\"batch size: {}\".format(b))\n",
    "plt.legend()\n",
    "plt.yscale('log')\n",
    "plt.xlabel(\"Epochs\")\n",
    "plt.ylabel(\"Error\")\n",
    "plt.show()\n"
   ]
  },
  {
   "cell_type": "code",
   "execution_count": null,
   "metadata": {},
   "outputs": [],
   "source": [
    "plt.figure(\"Error vs epoch - b\")\n",
    "bs = [0.5,0.8,1,2,3,4,5,6,7,8]\n",
    "for b in bs:\n",
    "    network = Network(structure=([2, 2, 1]),\n",
    "                      activation='tanh', seed=17, args={'b': b})\n",
    "    errors = network.train(dataset, epochs=1000, momentum=0, learning_rate=0.001, batch_size=1)\n",
    "    plt.plot(errors, label=\"b: {}\".format(b))\n",
    "plt.legend()\n",
    "plt.yscale('log')\n",
    "plt.xlabel(\"Epochs\")\n",
    "plt.ylabel(\"Error\")\n",
    "plt.show()\n"
   ]
  },
  {
   "cell_type": "markdown",
   "metadata": {},
   "source": [
    "##### Limit cases"
   ]
  },
  {
   "cell_type": "code",
   "execution_count": null,
   "metadata": {},
   "outputs": [],
   "source": [
    "plt.figure(\"Error vs epoch - limits\")\n",
    "combinations = [ # lr bs m b label\n",
    "    [0.9, 1, 0, 1, \"learning rate: 0.9\"],\n",
    "    [0.1, 1, 1, 1, \"momentum: 1\"],\n",
    "    [0.1, 1, 0, 4, \"b: 4\"]\n",
    "]\n",
    "for c in combinations:\n",
    "    network = Network(structure=([2, 2, 1]),\n",
    "                      activation='tanh', seed=17, args={'b': c[3]})\n",
    "    errors = network.train(dataset, epochs=1000, momentum=c[2], learning_rate=c[0], batch_size=c[1])\n",
    "    plt.plot(errors, label=c[4])\n",
    "plt.legend()\n",
    "plt.yscale('log')\n",
    "plt.xlabel(\"Epochs\")\n",
    "plt.ylabel(\"Error\")\n",
    "plt.show()\n"
   ]
  },
  {
   "cell_type": "markdown",
   "metadata": {},
   "source": [
    "#### Animation"
   ]
  },
  {
   "cell_type": "code",
   "execution_count": null,
   "metadata": {},
   "outputs": [],
   "source": [
    "imgs = []\n",
    "\n",
    "size = 25\n",
    "lim = 1\n",
    "x = np.linspace(-lim, lim, size)\n",
    "y = np.linspace(-lim, lim, size)\n",
    "\n",
    "sample = [[i, j] for i in x for j in y]\n",
    "\n",
    "plt.figure(\"temperature map animation\")\n",
    "plt.xlabel(\"E1\")\n",
    "plt.ylabel(\"E2\")\n",
    "\n",
    "mesh = plt.pcolormesh(x, y, np.zeros((size, size)), vmin=-1,\n",
    "                      vmax=1, cmap=\"coolwarm\", shading=\"gouraud\")\n",
    "\n",
    "plt.colorbar()\n",
    "\n",
    "def callback(network):\n",
    "    img = np.zeros((size, size))\n",
    "    for i in range(size):\n",
    "        for j in range(size):\n",
    "            img[i][j] = network.feedforward([x[i], y[j]])[0]\n",
    "    imgs.append(img)\n",
    "\n",
    "\n",
    "def update(frame):\n",
    "    mesh.set_array(np.array(imgs[frame]).ravel())\n",
    "    return mesh\n",
    "\n",
    "\n",
    "network = Network(structure=(\n",
    "    [2, 2, 1]), activation='tanh', seed=17, args={'b': 1})\n",
    "network.train(dataset, learning_rate=0.1, epochs=40,\n",
    "              momentum=0.9, callback=callback)\n",
    "\n",
    "# callback(network)\n",
    "# update(len(imgs)-1)\n",
    "\n",
    "# plt.show()\n",
    "\n",
    "anim = animation.FuncAnimation(plt.gcf(), update, frames=len(imgs), interval=1)\n",
    "\n",
    "anim.save('ej3.a.mp4', fps=30)\n",
    "\n",
    "anim = None\n",
    "\n",
    "update(len(imgs)-1)\n",
    "\n",
    "plt.show()\n"
   ]
  },
  {
   "cell_type": "markdown",
   "metadata": {},
   "source": [
    "#### More heatmaps"
   ]
  },
  {
   "cell_type": "code",
   "execution_count": null,
   "metadata": {},
   "outputs": [],
   "source": [
    "lim = 2\n",
    "size=200\n",
    "x = np.linspace(-lim, lim, size)\n",
    "y = np.linspace(-lim, lim, size)\n",
    "sample = [[i, j] for i in x for j in y]\n",
    "\n",
    "structures = [\n",
    "    [2, 3, 1],\n",
    "    [2, 15,10, 1],\n",
    "    [2,10,15,1]\n",
    "]\n",
    "\n",
    "\n",
    "for s in structures:\n",
    "    plt.figure(\"heatmap with {} neurons\".format(s), figsize=(10, 5))\n",
    "    network = Network(structure=s, activation='tanh', seed=17, args={'b': 0.8})\n",
    "    errors = network.train(dataset, learning_rate=0.1,\n",
    "                           target_error=0.01, momentum=0.9)\n",
    "    print(\"Epochs: \", len(errors))\n",
    "    print(\"Error: {:.2e}\".format(network.error(dataset)))\n",
    "    print(\"Structure: \", s)\n",
    "    plot(network)\n",
    "    plt.scatter([x[0] for x,y in dataset], [x[1] for x,y in dataset], c=\"black\")\n",
    "    plt.show()\n"
   ]
  },
  {
   "cell_type": "markdown",
   "metadata": {},
   "source": [
    "### 3.b"
   ]
  },
  {
   "cell_type": "code",
   "execution_count": null,
   "metadata": {},
   "outputs": [],
   "source": [
    "from datasets import number_images\n",
    "\n",
    "dataset = []\n",
    "\n",
    "for i, img in enumerate(number_images):\n",
    "    dataset.append((np.array(img).flatten(), [1-i % 2]))\n"
   ]
  },
  {
   "cell_type": "code",
   "execution_count": null,
   "metadata": {},
   "outputs": [],
   "source": [
    "network = Network(structure=([35, 20, 1]),\n",
    "                  activation='sigmoid', seed=17, args={'b': 1})\n",
    "errors = network.train(dataset, learning_rate=0.1, epochs=500, momentum=0.9)\n",
    "\n",
    "print(\"Epochs: \", len(errors))\n",
    "print(\"Error: {:.2e}\".format(errors[-1]))\n",
    "\n",
    "plt.figure(\"error - Par o impar\")\n",
    "plt.yscale('log')\n",
    "plt.xlabel(\"Epochs\")\n",
    "plt.ylabel(\"Error\")\n",
    "plt.plot(errors)\n",
    "plt.show()\n",
    "\n",
    "x = [i for i in range(10)]\n",
    "y = [network.feedforward(dataset[i][0])[0] for i in x]\n",
    "\n",
    "plt.figure(\"par o impar\")\n",
    "plt.scatter(x, y)\n",
    "plt.xticks(x)\n",
    "plt.ylabel(\"Impar - Par\")\n",
    "plt.xlabel(\"Numero\")\n",
    "plt.show()\n"
   ]
  },
  {
   "cell_type": "code",
   "execution_count": null,
   "metadata": {},
   "outputs": [],
   "source": [
    "network_template = Network(structure=([35, 20, 1]),\n",
    "                  activation='sigmoid', seed=17, args={'b': 1})        \n",
    "lr = 0.1\n",
    "m = 0.9\n",
    "epsilon = 0.1\n",
    "network,precision,precision_training,test,training = metrics.cross_validation(dataset, network_template, k=5,  epochs=100, metric = lambda n,d: metrics.accuracy(n,d,epsilon),lr=lr,m=m)\n",
    "print(\"Precision test set: \",precision)\n",
    "print(\"Precision for training set: \",precision_training)\n",
    "\n",
    "test_acuracy = []\n",
    "test_errors = []\n",
    "training_acuracy = []\n",
    "def callback(network):\n",
    "    test_acuracy.append(metrics.accuracy(network,test,epsilon))\n",
    "    test_errors.append(network.error(test))\n",
    "    training_acuracy.append(metrics.accuracy(network,training,epsilon))\n",
    "\n",
    "errors = network_template.train(training, epochs=100, learning_rate=lr, momentum=m, epoch_callback=callback)\n",
    "\n",
    "plt.figure(\"Accuracy even odd\")\n",
    "plt.plot(test_acuracy, label=\"Test accuracy\")\n",
    "plt.plot(training_acuracy, label=\"Training accuracy\")\n",
    "plt.xlabel(\"Epochs\")\n",
    "plt.ylabel(\"Accuracy\")\n",
    "plt.legend()\n",
    "plt.show()\n",
    "\n",
    "plt.figure(\"Error even odd\")\n",
    "plt.plot(np.array(test_errors)/len(test), label=\"Test error\")\n",
    "plt.plot(np.array(errors)/len(training), label=\"Training error\")\n",
    "plt.yscale('log')\n",
    "plt.xlabel(\"Epochs\")\n",
    "plt.ylabel(\"Error\")\n",
    "plt.legend()\n",
    "plt.show()"
   ]
  },
  {
   "cell_type": "markdown",
   "metadata": {},
   "source": [
    "### 3.c"
   ]
  },
  {
   "cell_type": "code",
   "execution_count": null,
   "metadata": {},
   "outputs": [],
   "source": [
    "from datasets import number_images\n",
    "\n",
    "dataset = []\n",
    "\n",
    "X = np.array([i for i in range(11)]) - 0.5\n",
    "\n",
    "for i, img in enumerate(number_images):\n",
    "    dataset.append((np.array(img).flatten(), [\n",
    "                   1 if j == i else 0 for j in range(10)]))\n"
   ]
  },
  {
   "cell_type": "code",
   "execution_count": null,
   "metadata": {},
   "outputs": [],
   "source": [
    "network = Network(structure=([35, 30, 20, 10]),\n",
    "                  activation='sigmoid', seed=17, args={'b': 1})\n",
    "errors = network.train(dataset, learning_rate=1, epochs=50, momentum=0)\n",
    "print(\"Error: \", errors[-1])\n",
    "print(\"Epochs: \", len(errors))\n",
    "plt.figure(\"error - number recon\")\n",
    "plt.yscale('log')\n",
    "plt.xlabel(\"Epochs\")\n",
    "plt.ylabel(\"Error\")\n",
    "plt.plot(errors)\n",
    "plt.show()\n",
    "\n",
    "plt.figure(\"probability - number recon\")\n",
    "\n",
    "x = [i for i in range(10)]\n",
    "matrix = []\n",
    "for i in range(10):\n",
    "    matrix.append(network.feedforward(dataset[i][0]))\n",
    "    #plt.scatter(x,matrix[-1], label=i)\n",
    "plt.pcolormesh(X, X, np.array(matrix).reshape(10, 10),\n",
    "               cmap=\"coolwarm\", vmin=0, vmax=1)\n",
    "plt.colorbar()\n",
    "plt.xlabel(\"Numero\")\n",
    "plt.ylabel(\"Certeza\")\n",
    "ticks = [i for i in range(10)]\n",
    "plt.xticks(ticks)\n",
    "plt.yticks(ticks)\n",
    "plt.show()\n"
   ]
  },
  {
   "cell_type": "markdown",
   "metadata": {},
   "source": [
    "#### Noise"
   ]
  },
  {
   "cell_type": "code",
   "execution_count": null,
   "metadata": {},
   "outputs": [],
   "source": [
    "from utils import noise\n",
    "noise_data = [[noise(img, 0.02, seed=17), output] for img, output in dataset]\n",
    "\n",
    "plt.figure(\"probability - noise - number recon\")\n",
    "\n",
    "x = [i for i in range(10)]\n",
    "matrix = []\n",
    "for i in range(10):\n",
    "    # lt.scatter(xxomatrix[-1], label=i\n",
    "    matrix.append(network.feedforward(noise_data[i][0]))\n",
    "print(network.error(noise_data))\n",
    "plt.pcolormesh(X, X, np.array(matrix).reshape(10, 10),\n",
    "               cmap=\"coolwarm\", vmin=0, vmax=1)\n",
    "plt.colorbar()\n",
    "plt.xticks(x)\n",
    "plt.yticks(x)\n",
    "plt.xlabel(\"Numero\")\n",
    "plt.ylabel(\"Certeza\")\n",
    "plt.show()\n"
   ]
  },
  {
   "cell_type": "code",
   "execution_count": null,
   "metadata": {},
   "outputs": [],
   "source": [
    "seeds = [i for i in range(1000)]\n",
    "\n",
    "noise_data = []\n",
    "\n",
    "for i in seeds:\n",
    "    noise_data += [[noise(img, 0.02, seed=i), output]\n",
    "                   for img, output in dataset]\n",
    "\n",
    "classes = [output for img, output in dataset]\n",
    "expected = [output for img, output in noise_data]\n",
    "output = [network.feedforward(img) for img, output in noise_data]\n",
    "\n",
    "mat, accuracy = metrics.confusion_matrix(classes, output, expected)\n",
    "\n",
    "mat = mat.astype(int)\n",
    "\n",
    "colours = []\n",
    "\n",
    "for i in range(len(mat)-1):\n",
    "    row = []\n",
    "    for j in range(len(mat)-1):\n",
    "        if i == j:\n",
    "            row.append('#FFAAAA')\n",
    "        else:\n",
    "            row.append('#FFFFFF')\n",
    "    row.append('#AAFFAA')\n",
    "    colours.append(row)\n",
    "\n",
    "row = []\n",
    "for i in range(len(mat)):\n",
    "    row.append('#AAFFAA')\n",
    "colours.append(row)\n",
    "\n",
    "\n",
    "labels = [f\" {i} \" for i in range(10)]\n",
    "print(\"Accuracy: \", accuracy)\n",
    "plt.figure(\"table\", figsize=(10, 10))\n",
    "plt.axis(\"off\")\n",
    "t = plt.table(cellText=mat,\n",
    "          loc='center',\n",
    "          cellLoc='center',\n",
    "          rowLabels=labels + [\" P\"],\n",
    "          colLabels=labels + [\"R\"],\n",
    "          rowColours=['#FFFF00'] * 10 + ['#AAAAFF'],\n",
    "          colColours=['#FFFF00'] * 10 + ['#AAAAFF'],\n",
    "          cellColours=colours,\n",
    "          )\n",
    "\n",
    "t.set_fontsize(20)\n",
    "t.scale(1,2)\n",
    "\n",
    "\n",
    "plt.gcf().tight_layout()\n",
    "plt.show()\n"
   ]
  },
  {
   "cell_type": "markdown",
   "metadata": {},
   "source": [
    "### Optional"
   ]
  },
  {
   "cell_type": "code",
   "execution_count": null,
   "metadata": {},
   "outputs": [],
   "source": [
    "\n",
    "def softmax(vector):\n",
    "\te = np.exp(vector)\n",
    "\treturn (e / e.sum(axis=1))*100\n",
    "matrix = softmax(np.array([network.feedforward(IN, with_values=True)[1][-1] for IN, OUT in dataset]))\n",
    "\n",
    "matrix =(100*matrix).astype(int)/100\n",
    "\n",
    "colours = []\n",
    "\n",
    "for i in range(len(matrix)):\n",
    "    row = []\n",
    "    for j in range(len(matrix)):\n",
    "        if i == j:\n",
    "            row.append('#FFAAAA')\n",
    "        else:\n",
    "            row.append('#FFFFFF')\n",
    "    colours.append(row)\n",
    "\n",
    "matrix  = [ [str(s)+\"%\" for s in row] for row in matrix]\n",
    "\n",
    "plt.figure(\"softmax - number recon\", figsize=(10, 10))\n",
    "plt.axis(\"off\")\n",
    "labels = [f\" {i} \" for i in range(10)]\n",
    "\n",
    "t = plt.table(cellText=matrix,\n",
    "          loc='center',\n",
    "          cellLoc='center',\n",
    "            rowLabels=labels,\n",
    "            colLabels=labels,\n",
    "            rowColours=['#FFFF00'] * 10,\n",
    "            colColours=['#FFFF00'] * 10,\n",
    "            cellColours=colours,\n",
    "          )\n",
    "\n",
    "t.set_fontsize(20)\n",
    "t.scale(1,2)\n",
    "\n",
    "\n",
    "plt.gcf().tight_layout()\n",
    "plt.show()"
   ]
  }
 ],
 "metadata": {
  "colab": {
   "collapsed_sections": [],
   "name": "TP3.ipynb",
   "provenance": []
  },
  "interpreter": {
   "hash": "916dbcbb3f70747c44a77c7bcd40155683ae19c65e1c03b4aa3499c5328201f1"
  },
  "kernelspec": {
   "display_name": "Python 3 (ipykernel)",
   "language": "python",
   "name": "python3"
  },
  "language_info": {
   "codemirror_mode": {
    "name": "ipython",
    "version": 3
   },
   "file_extension": ".py",
   "mimetype": "text/x-python",
   "name": "python",
   "nbconvert_exporter": "python",
   "pygments_lexer": "ipython3",
   "version": "3.8.10"
  }
 },
 "nbformat": 4,
 "nbformat_minor": 1
}
